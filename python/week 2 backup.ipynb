{
 "cells": [
  {
   "cell_type": "code",
   "execution_count": 9,
   "id": "c7c6ee98",
   "metadata": {},
   "outputs": [],
   "source": [
    "\n",
    "\n",
    "import matplotlib.pyplot as plt\n",
    "from matplotlib.patches import Ellipse\n",
    "from tqdm.notebook import tqdm, trange\n",
    "import torch\n",
    "import autograd.numpy as np\n",
    "import autograd.scipy.stats as stats\n",
    "import scipy.optimize as optimize\n",
    "from autograd.scipy.linalg import logm\n",
    "from autograd import grad, jacobian, hessian\n",
    "import numpy\n",
    "import scipy\n",
    "import pandas as pd\n",
    "import ipywidgets as widgets\n",
    "import time\n",
    "from sklearn import linear_model\n",
    "\n"
   ]
  },
  {
   "cell_type": "code",
   "execution_count": 10,
   "id": "f1270544",
   "metadata": {},
   "outputs": [],
   "source": [
    "def decode_q_params(encoded_q):\n",
    "        shape = len(encoded_q)\n",
    "        mean_shape = 3\n",
    "        A_shape = (int(np.sqrt(shape - mean_shape)), int(np.sqrt(shape - mean_shape)))\n",
    "        mean = encoded_q[0:mean_shape]\n",
    "        A = encoded_q[mean_shape:shape].reshape(A_shape)\n",
    "        return mean, A\n",
    "def encode_q_params(q_params):\n",
    "    mean, A = q_params\n",
    "    return np.array(list(mean) + list(A.flatten()))\n",
    "\n",
    "def decode_d(encoded_d, dim=2):\n",
    "    return encoded_d.reshape(int(len(encoded_d)/dim), dim)\n",
    "def encode_d(d):\n",
    "    return d.flatten()\n",
    "\n",
    "def augment_d(d):\n",
    "    return np.concatenate((d.T, [np.ones(len(d))]), axis=0).T"
   ]
  },
  {
   "cell_type": "code",
   "execution_count": 21,
   "id": "f00b914d",
   "metadata": {},
   "outputs": [],
   "source": [
    "\n",
    "\n",
    "def stable_multivariate_gaussian_logpdf(x, mu, cov):\n",
    "    n = cov.shape[-1]\n",
    "    x_mu = x - mu\n",
    "    try:\n",
    "        _, log_det = np.linalg.slogdet(cov)\n",
    "        cov_inv = np.linalg.inv(cov)\n",
    "        prod = np.einsum('...i, ...ij, ...j->...', x_mu, cov_inv, x_mu) # todo: find a way to make this understandable\n",
    "        log_prob = -0.5 * (n * np.log(2 * np.pi) + log_det + prod)\n",
    "    except np.linalg.LinAlgError:\n",
    "        cov_modified = cov + np.eye(n) * 1e-8\n",
    "        _, log_det = np.linalg.slogdet(cov_modified)\n",
    "        cov_inv = np.linalg.inv(cov_modified)\n",
    "        prod = np.einsum('...i, ...ij, ...j->...', x_mu, cov_inv, x_mu)\n",
    "        log_prob = -0.5 * (n * np.log(2 * np.pi) + log_det + prod)\n",
    "    return log_prob\n",
    "\n"
   ]
  },
  {
   "cell_type": "code",
   "execution_count": 22,
   "id": "3e6023d1",
   "metadata": {},
   "outputs": [],
   "source": [
    "\n",
    "\n",
    "def get_posterior(d, y_i):\n",
    "    d = np.concatenate((d, np.array([np.ones(d.shape[0])]).T), axis=1)\n",
    "    var_y = np.var(y_i) * np.eye(len(y_i))\n",
    "    covariance_prior = A_prior @ A_prior.T\n",
    "    mean_theta = covariance_prior @ d.T @ np.linalg.inv(var_y + d @ covariance_prior @ d.T) @ y_i\n",
    "    cov_theta = covariance_prior - covariance_prior @ d.T @ np.linalg.inv(var_y + d @ covariance_prior @ d.T) @ d @ covariance_prior\n",
    "    return mean_theta, np.linalg.cholesky(cov_theta)\n",
    "def get_posteriors(d, y):\n",
    "    d = augment_d(d)\n",
    "    var_y = noise * np.eye(y.shape[1])\n",
    "    covariance_prior = A_prior @ A_prior.T\n",
    "    mean_theta = covariance_prior @ d.T @ np.linalg.inv(var_y + d @ covariance_prior @ d.T) @ y.T\n",
    "    cov_theta = covariance_prior - covariance_prior @ d.T @ np.linalg.inv(var_y + d @ covariance_prior @ d.T) @ d @ covariance_prior\n",
    "    return mean_theta, np.linalg.cholesky(cov_theta)\n",
    "\n"
   ]
  },
  {
   "cell_type": "code",
   "execution_count": 23,
   "id": "75aab4c4",
   "metadata": {},
   "outputs": [],
   "source": [
    "\n",
    "\n",
    "#d0 = np.random.randn(20,2)\n",
    "d0 = np.array([[0,0] for i in range(10)])\n",
    "#A_prior = np.array([[5, -2, 1],\n",
    "#              [-2, 4, -1],\n",
    "#              [1, -1, 3]])\n",
    "A_prior = np.eye(3)\n",
    "mean_prior = np.array([0,0, 0])\n",
    "noise = 1\n",
    "\n"
   ]
  },
  {
   "cell_type": "code",
   "execution_count": 24,
   "id": "a7eede15",
   "metadata": {},
   "outputs": [],
   "source": [
    "def MI(d, N=50):\n",
    "    thetas = np.random.multivariate_normal(mean_prior, A_prior @ A_prior.T, size=N)\n",
    "    z = np.random.randn(N, d.shape[0]) * noise\n",
    "    y = thetas @ augment_d(d).T + z\n",
    "    mean, A = get_posteriors(d, y)\n",
    "    #print(mean.T)\n",
    "    results = [stable_multivariate_gaussian_logpdf(theta_i, mean_i, A @ A.T) for theta_i, mean_i in zip(thetas, mean.T)]\n",
    "    return 1/N * np.sum(results) - 0.5 * np.log(np.linalg.det(2 * np.pi * np.e * (A_prior @ A_prior.T)))"
   ]
  },
  {
   "cell_type": "code",
   "execution_count": 25,
   "id": "f974c4a6",
   "metadata": {},
   "outputs": [],
   "source": [
    "def KLD(mean_q, A_q, mean_p, A_p):\n",
    "        sigma_q = (A_q @ A_q.T)\n",
    "        sigma_p = (A_p @ A_p.T)\n",
    "        bar_sigma_q = np.linalg.norm(sigma_q)\n",
    "        bar_sigma_p = np.linalg.norm(sigma_p)\n",
    "        k = len(mean_q)\n",
    "        return 0.5 * (np.trace(np.linalg.inv(sigma_p) @ sigma_q) + (mean_p - mean_q).T @ np.linalg.inv(sigma_p) @ (mean_p - mean_q) - k + np.log(bar_sigma_p/bar_sigma_q))\n",
    "def KLD_opt(mean_q, A_q, mean_p, A_p):\n",
    "    # Compute Cholesky decomposition\n",
    "    L_p = np.linalg.cholesky(A_p @ A_p.T)\n",
    "    L_q = np.linalg.cholesky(A_q @ A_q.T)\n",
    "\n",
    "    # Compute trace term\n",
    "    trace_term = np.sum(np.log(np.diag(L_p))) - np.sum(np.log(np.diag(L_q)))\n",
    "\n",
    "    # Compute mean difference term\n",
    "    mean_diff = mean_p - mean_q\n",
    "    mean_diff_term = np.dot(np.linalg.solve(L_p.T, np.linalg.solve(L_p, mean_diff)), mean_diff)\n",
    "\n",
    "    # Compute bar_sigma_p and bar_sigma_q\n",
    "    bar_sigma_q = np.linalg.norm(L_q)\n",
    "    bar_sigma_p = np.linalg.norm(L_p)\n",
    "\n",
    "    k = len(mean_q)\n",
    "\n",
    "    return 0.5 * (trace_term + mean_diff_term - k + np.log(bar_sigma_p / bar_sigma_q))\n",
    "def log_likelihood_opt(y, theta, d):\n",
    "    d_offset = np.concatenate((d.T, np.ones((1, len(d)))), axis=0).T\n",
    "    likelihood_cov = np.mean(np.square(y - np.matmul(theta.T, d_offset.T)), axis=1)[:, np.newaxis, np.newaxis] * np.eye(len(d))[np.newaxis, ...]\n",
    "    likelihood_mean = np.matmul(theta.T, d_offset.T)\n",
    "    log_likelihoods = stable_multivariate_gaussian_logpdf(y, likelihood_mean, likelihood_cov)\n",
    "    return log_likelihoods\n",
    "def log_likelihood(y, theta, d):\n",
    "    #print(np.array([np.eye(len(d)) for _ in theta.T]).shape)\n",
    "    d_offset = np.concatenate((d.T, [np.ones(len(d))]), axis=0).T\n",
    "    #print(np.mean(np.square(y - theta.T @ d.T), axis=1))\n",
    "    #print(d)\n",
    "    likelihood_cov = np.mean(np.square(y - theta.T @ d_offset.T), axis=1)[:, np.newaxis, np.newaxis] * np.array([np.eye(len(d)) for _ in theta.T])\n",
    "    #print(likelihood_cov)\n",
    "    likelihood_mean = theta.T @ d_offset.T\n",
    "    return [stable_multivariate_gaussian_logpdf(y, mean, cov) for mean, cov in zip(likelihood_mean, likelihood_cov)]\n",
    "def elbo_optimized(q_params, d, y_i, shape=3, batch_size = 500):\n",
    "    #print(\"Computing elbo for \", q_params, d, y_i)\n",
    "    mean, A = q_params\n",
    "    #values = np.random.multivariate_normal(np.zeros(shape), np.eye(shape), size=batch_size)\n",
    "    #theta = mean + A @ values.T\n",
    "    sample_values = np.random.multivariate_normal(np.zeros(3), np.eye(3), size=batch_size)\n",
    "    theta = np.expand_dims(mean, axis=1) + A @ sample_values.T\n",
    "    lik = log_likelihood_opt(y_i, theta, d)\n",
    "    mean_term = (1/batch_size) * np.sum(lik)\n",
    "    kld_term = KLD(mean, A, mean_prior, A_prior)\n",
    "    #print(lik[0])\n",
    "    \n",
    "    return mean_term - kld_term"
   ]
  },
  {
   "cell_type": "code",
   "execution_count": 26,
   "id": "8ff66cdf",
   "metadata": {},
   "outputs": [],
   "source": [
    "def optimizer(x0, gradient, callback=lambda x, g: True, rate=1, decay=0.5, iters=1e1, label=None, leave=True, thres=0.1):\n",
    "    x = x0\n",
    "    for i in tqdm(range(int(iters)), desc=label, leave=leave):\n",
    "        r = rate * 1/(10+i*decay)\n",
    "        g = gradient(x)\n",
    "        x = -g * r + x\n",
    "        #if i > 0 and np.linalg.norm(g) < thres or np.linalg.norm(g) > 10:\n",
    "        #    break\n",
    "        if i % 1 == 0:\n",
    "            if not callback(x, g):\n",
    "                break\n",
    "    return x"
   ]
  },
  {
   "cell_type": "code",
   "execution_count": 27,
   "id": "96d56b2e",
   "metadata": {},
   "outputs": [
    {
     "data": {
      "application/vnd.jupyter.widget-view+json": {
       "model_id": "be6f4a3abe4b403194e5fecc371add47",
       "version_major": 2,
       "version_minor": 0
      },
      "text/plain": [
       "  0%|          | 0/100000 [00:00<?, ?it/s]"
      ]
     },
     "metadata": {},
     "output_type": "display_data"
    },
    {
     "ename": "KeyboardInterrupt",
     "evalue": "",
     "output_type": "error",
     "traceback": [
      "\u001b[0;31m---------------------------------------------------------------------------\u001b[0m",
      "\u001b[0;31mKeyboardInterrupt\u001b[0m                         Traceback (most recent call last)",
      "Cell \u001b[0;32mIn[27], line 14\u001b[0m\n\u001b[1;32m     12\u001b[0m dis\u001b[38;5;241m.\u001b[39mappend(d0)\n\u001b[1;32m     13\u001b[0m mis\u001b[38;5;241m.\u001b[39mappend(MI(d0, N\u001b[38;5;241m=\u001b[39m\u001b[38;5;241m30\u001b[39m))\n\u001b[0;32m---> 14\u001b[0m \u001b[43moptimizer\u001b[49m\u001b[43m(\u001b[49m\u001b[43mencode_d\u001b[49m\u001b[43m(\u001b[49m\u001b[43md0\u001b[49m\u001b[43m)\u001b[49m\u001b[43m,\u001b[49m\u001b[43m \u001b[49m\u001b[43mgrad\u001b[49m\u001b[43m(\u001b[49m\u001b[43mg\u001b[49m\u001b[43m)\u001b[49m\u001b[43m,\u001b[49m\u001b[43m \u001b[49m\u001b[43mrate\u001b[49m\u001b[38;5;241;43m=\u001b[39;49m\u001b[38;5;241;43m1\u001b[39;49m\u001b[43m,\u001b[49m\u001b[43m \u001b[49m\u001b[43mdecay\u001b[49m\u001b[38;5;241;43m=\u001b[39;49m\u001b[38;5;241;43m0.0001\u001b[39;49m\u001b[43m,\u001b[49m\u001b[43m \u001b[49m\u001b[43miters\u001b[49m\u001b[38;5;241;43m=\u001b[39;49m\u001b[38;5;241;43m100000\u001b[39;49m\u001b[43m,\u001b[49m\u001b[43m \u001b[49m\u001b[43mcallback\u001b[49m\u001b[38;5;241;43m=\u001b[39;49m\u001b[43mcallback\u001b[49m\u001b[43m)\u001b[49m\n\u001b[1;32m     15\u001b[0m dis \u001b[38;5;241m=\u001b[39m np\u001b[38;5;241m.\u001b[39marray(dis)\n",
      "Cell \u001b[0;32mIn[26], line 5\u001b[0m, in \u001b[0;36moptimizer\u001b[0;34m(x0, gradient, callback, rate, decay, iters, label, leave, thres)\u001b[0m\n\u001b[1;32m      3\u001b[0m \u001b[38;5;28;01mfor\u001b[39;00m i \u001b[38;5;129;01min\u001b[39;00m tqdm(\u001b[38;5;28mrange\u001b[39m(\u001b[38;5;28mint\u001b[39m(iters)), desc\u001b[38;5;241m=\u001b[39mlabel, leave\u001b[38;5;241m=\u001b[39mleave):\n\u001b[1;32m      4\u001b[0m     r \u001b[38;5;241m=\u001b[39m rate \u001b[38;5;241m*\u001b[39m \u001b[38;5;241m1\u001b[39m\u001b[38;5;241m/\u001b[39m(\u001b[38;5;241m10\u001b[39m\u001b[38;5;241m+\u001b[39mi\u001b[38;5;241m*\u001b[39mdecay)\n\u001b[0;32m----> 5\u001b[0m     g \u001b[38;5;241m=\u001b[39m \u001b[43mgradient\u001b[49m\u001b[43m(\u001b[49m\u001b[43mx\u001b[49m\u001b[43m)\u001b[49m\n\u001b[1;32m      6\u001b[0m     x \u001b[38;5;241m=\u001b[39m \u001b[38;5;241m-\u001b[39mg \u001b[38;5;241m*\u001b[39m r \u001b[38;5;241m+\u001b[39m x\n\u001b[1;32m      7\u001b[0m     \u001b[38;5;66;03m#if i > 0 and np.linalg.norm(g) < thres or np.linalg.norm(g) > 10:\u001b[39;00m\n\u001b[1;32m      8\u001b[0m     \u001b[38;5;66;03m#    break\u001b[39;00m\n",
      "File \u001b[0;32m~/Programs/assignments/pocs/python/venv/lib/python3.10/site-packages/autograd/wrap_util.py:20\u001b[0m, in \u001b[0;36munary_to_nary.<locals>.nary_operator.<locals>.nary_f\u001b[0;34m(*args, **kwargs)\u001b[0m\n\u001b[1;32m     18\u001b[0m \u001b[38;5;28;01melse\u001b[39;00m:\n\u001b[1;32m     19\u001b[0m     x \u001b[38;5;241m=\u001b[39m \u001b[38;5;28mtuple\u001b[39m(args[i] \u001b[38;5;28;01mfor\u001b[39;00m i \u001b[38;5;129;01min\u001b[39;00m argnum)\n\u001b[0;32m---> 20\u001b[0m \u001b[38;5;28;01mreturn\u001b[39;00m \u001b[43munary_operator\u001b[49m\u001b[43m(\u001b[49m\u001b[43munary_f\u001b[49m\u001b[43m,\u001b[49m\u001b[43m \u001b[49m\u001b[43mx\u001b[49m\u001b[43m,\u001b[49m\u001b[43m \u001b[49m\u001b[38;5;241;43m*\u001b[39;49m\u001b[43mnary_op_args\u001b[49m\u001b[43m,\u001b[49m\u001b[43m \u001b[49m\u001b[38;5;241;43m*\u001b[39;49m\u001b[38;5;241;43m*\u001b[39;49m\u001b[43mnary_op_kwargs\u001b[49m\u001b[43m)\u001b[49m\n",
      "File \u001b[0;32m~/Programs/assignments/pocs/python/venv/lib/python3.10/site-packages/autograd/differential_operators.py:32\u001b[0m, in \u001b[0;36mgrad\u001b[0;34m(fun, x)\u001b[0m\n\u001b[1;32m     29\u001b[0m \u001b[38;5;28;01mif\u001b[39;00m \u001b[38;5;129;01mnot\u001b[39;00m vspace(ans)\u001b[38;5;241m.\u001b[39msize \u001b[38;5;241m==\u001b[39m \u001b[38;5;241m1\u001b[39m:\n\u001b[1;32m     30\u001b[0m     \u001b[38;5;28;01mraise\u001b[39;00m \u001b[38;5;167;01mTypeError\u001b[39;00m(\u001b[38;5;124m\"\u001b[39m\u001b[38;5;124mGrad only applies to real scalar-output functions. \u001b[39m\u001b[38;5;124m\"\u001b[39m\n\u001b[1;32m     31\u001b[0m                     \u001b[38;5;124m\"\u001b[39m\u001b[38;5;124mTry jacobian, elementwise_grad or holomorphic_grad.\u001b[39m\u001b[38;5;124m\"\u001b[39m)\n\u001b[0;32m---> 32\u001b[0m \u001b[38;5;28;01mreturn\u001b[39;00m \u001b[43mvjp\u001b[49m\u001b[43m(\u001b[49m\u001b[43mvspace\u001b[49m\u001b[43m(\u001b[49m\u001b[43mans\u001b[49m\u001b[43m)\u001b[49m\u001b[38;5;241;43m.\u001b[39;49m\u001b[43mones\u001b[49m\u001b[43m(\u001b[49m\u001b[43m)\u001b[49m\u001b[43m)\u001b[49m\n",
      "File \u001b[0;32m~/Programs/assignments/pocs/python/venv/lib/python3.10/site-packages/autograd/core.py:14\u001b[0m, in \u001b[0;36mmake_vjp.<locals>.vjp\u001b[0;34m(g)\u001b[0m\n\u001b[0;32m---> 14\u001b[0m \u001b[38;5;28;01mdef\u001b[39;00m \u001b[38;5;21mvjp\u001b[39m(g): \u001b[38;5;28;01mreturn\u001b[39;00m \u001b[43mbackward_pass\u001b[49m\u001b[43m(\u001b[49m\u001b[43mg\u001b[49m\u001b[43m,\u001b[49m\u001b[43m \u001b[49m\u001b[43mend_node\u001b[49m\u001b[43m)\u001b[49m\n",
      "File \u001b[0;32m~/Programs/assignments/pocs/python/venv/lib/python3.10/site-packages/autograd/core.py:22\u001b[0m, in \u001b[0;36mbackward_pass\u001b[0;34m(g, end_node)\u001b[0m\n\u001b[1;32m     20\u001b[0m     outgrad \u001b[38;5;241m=\u001b[39m outgrads\u001b[38;5;241m.\u001b[39mpop(node)\n\u001b[1;32m     21\u001b[0m     ingrads \u001b[38;5;241m=\u001b[39m node\u001b[38;5;241m.\u001b[39mvjp(outgrad[\u001b[38;5;241m0\u001b[39m])\n\u001b[0;32m---> 22\u001b[0m     \u001b[38;5;28;01mfor\u001b[39;00m parent, ingrad \u001b[38;5;129;01min\u001b[39;00m \u001b[38;5;28mzip\u001b[39m(node\u001b[38;5;241m.\u001b[39mparents, ingrads):\n\u001b[1;32m     23\u001b[0m         outgrads[parent] \u001b[38;5;241m=\u001b[39m add_outgrads(outgrads\u001b[38;5;241m.\u001b[39mget(parent), ingrad)\n\u001b[1;32m     24\u001b[0m \u001b[38;5;28;01mreturn\u001b[39;00m outgrad[\u001b[38;5;241m0\u001b[39m]\n",
      "File \u001b[0;32m~/Programs/assignments/pocs/python/venv/lib/python3.10/site-packages/autograd/core.py:49\u001b[0m, in \u001b[0;36m<genexpr>\u001b[0;34m(.0)\u001b[0m\n\u001b[1;32m     47\u001b[0m \u001b[38;5;28;01mdef\u001b[39;00m \u001b[38;5;21mvjp_argnums\u001b[39m(argnums, \u001b[38;5;241m*\u001b[39margs):\n\u001b[1;32m     48\u001b[0m     vjps \u001b[38;5;241m=\u001b[39m [vjpmaker(argnum, \u001b[38;5;241m*\u001b[39margs) \u001b[38;5;28;01mfor\u001b[39;00m argnum \u001b[38;5;129;01min\u001b[39;00m argnums]\n\u001b[0;32m---> 49\u001b[0m     \u001b[38;5;28;01mreturn\u001b[39;00m \u001b[38;5;28;01mlambda\u001b[39;00m g: (\u001b[43mvjp\u001b[49m\u001b[43m(\u001b[49m\u001b[43mg\u001b[49m\u001b[43m)\u001b[49m \u001b[38;5;28;01mfor\u001b[39;00m vjp \u001b[38;5;129;01min\u001b[39;00m vjps)\n",
      "File \u001b[0;32m~/Programs/assignments/pocs/python/venv/lib/python3.10/site-packages/autograd/numpy/numpy_vjps.py:592\u001b[0m, in \u001b[0;36mgrad_einsum.<locals>.vjp\u001b[0;34m(g)\u001b[0m\n\u001b[1;32m    590\u001b[0m operands \u001b[38;5;241m=\u001b[39m operands_\n\u001b[1;32m    591\u001b[0m \u001b[38;5;28;01mif\u001b[39;00m \u001b[38;5;28misinstance\u001b[39m(operands[\u001b[38;5;241m0\u001b[39m], string_types):  \u001b[38;5;66;03m# using \"ijk\" convention.\u001b[39;00m\n\u001b[0;32m--> 592\u001b[0m     in_subs, out_subs, _ \u001b[38;5;241m=\u001b[39m \u001b[43manp\u001b[49m\u001b[38;5;241;43m.\u001b[39;49m\u001b[43mparse_einsum_input\u001b[49m\u001b[43m(\u001b[49m\u001b[38;5;241;43m*\u001b[39;49m\u001b[43moperands\u001b[49m\u001b[43m)\u001b[49m\n\u001b[1;32m    593\u001b[0m     string, operands \u001b[38;5;241m=\u001b[39m operands[\u001b[38;5;241m0\u001b[39m], operands[\u001b[38;5;241m1\u001b[39m:]\n\u001b[1;32m    595\u001b[0m     in_subs_list \u001b[38;5;241m=\u001b[39m in_subs\u001b[38;5;241m.\u001b[39msplit(\u001b[38;5;124m'\u001b[39m\u001b[38;5;124m,\u001b[39m\u001b[38;5;124m'\u001b[39m)\n",
      "File \u001b[0;32m~/Programs/assignments/pocs/python/venv/lib/python3.10/site-packages/autograd/tracer.py:61\u001b[0m, in \u001b[0;36mnotrace_primitive.<locals>.f_wrapped\u001b[0;34m(*args, **kwargs)\u001b[0m\n\u001b[1;32m     58\u001b[0m \u001b[38;5;129m@wraps\u001b[39m(f_raw)\n\u001b[1;32m     59\u001b[0m \u001b[38;5;28;01mdef\u001b[39;00m \u001b[38;5;21mf_wrapped\u001b[39m(\u001b[38;5;241m*\u001b[39margs, \u001b[38;5;241m*\u001b[39m\u001b[38;5;241m*\u001b[39mkwargs):\n\u001b[1;32m     60\u001b[0m     argvals \u001b[38;5;241m=\u001b[39m \u001b[38;5;28mmap\u001b[39m(getval, args)\n\u001b[0;32m---> 61\u001b[0m     \u001b[38;5;28;01mreturn\u001b[39;00m \u001b[43mf_raw\u001b[49m\u001b[43m(\u001b[49m\u001b[38;5;241;43m*\u001b[39;49m\u001b[43margvals\u001b[49m\u001b[43m,\u001b[49m\u001b[43m \u001b[49m\u001b[38;5;241;43m*\u001b[39;49m\u001b[38;5;241;43m*\u001b[39;49m\u001b[43mkwargs\u001b[49m\u001b[43m)\u001b[49m\n",
      "File \u001b[0;32m~/Programs/assignments/pocs/python/venv/lib/python3.10/site-packages/autograd/numpy/numpy_wrapper.py:152\u001b[0m, in \u001b[0;36mparse_einsum_input\u001b[0;34m(*args)\u001b[0m\n\u001b[1;32m    150\u001b[0m \u001b[38;5;129m@notrace_primitive\u001b[39m\n\u001b[1;32m    151\u001b[0m \u001b[38;5;28;01mdef\u001b[39;00m \u001b[38;5;21mparse_einsum_input\u001b[39m(\u001b[38;5;241m*\u001b[39margs):\n\u001b[0;32m--> 152\u001b[0m     \u001b[38;5;28;01mreturn\u001b[39;00m \u001b[43m_parse_einsum_input\u001b[49m\u001b[43m(\u001b[49m\u001b[43margs\u001b[49m\u001b[43m)\u001b[49m\n",
      "File \u001b[0;32m~/Programs/assignments/pocs/python/venv/lib/python3.10/site-packages/numpy/core/einsumfunc.py:625\u001b[0m, in \u001b[0;36m_parse_einsum_input\u001b[0;34m(operands)\u001b[0m\n\u001b[1;32m    623\u001b[0m \u001b[38;5;28;01mfor\u001b[39;00m num, sub \u001b[38;5;129;01min\u001b[39;00m \u001b[38;5;28menumerate\u001b[39m(split_subscripts):\n\u001b[1;32m    624\u001b[0m     \u001b[38;5;28;01mif\u001b[39;00m \u001b[38;5;124m\"\u001b[39m\u001b[38;5;124m.\u001b[39m\u001b[38;5;124m\"\u001b[39m \u001b[38;5;129;01min\u001b[39;00m sub:\n\u001b[0;32m--> 625\u001b[0m         \u001b[38;5;28;01mif\u001b[39;00m (sub\u001b[38;5;241m.\u001b[39mcount(\u001b[38;5;124m\"\u001b[39m\u001b[38;5;124m.\u001b[39m\u001b[38;5;124m\"\u001b[39m) \u001b[38;5;241m!=\u001b[39m \u001b[38;5;241m3\u001b[39m) \u001b[38;5;129;01mor\u001b[39;00m (\u001b[43msub\u001b[49m\u001b[38;5;241;43m.\u001b[39;49m\u001b[43mcount\u001b[49m\u001b[43m(\u001b[49m\u001b[38;5;124;43m\"\u001b[39;49m\u001b[38;5;124;43m...\u001b[39;49m\u001b[38;5;124;43m\"\u001b[39;49m\u001b[43m)\u001b[49m \u001b[38;5;241m!=\u001b[39m \u001b[38;5;241m1\u001b[39m):\n\u001b[1;32m    626\u001b[0m             \u001b[38;5;28;01mraise\u001b[39;00m \u001b[38;5;167;01mValueError\u001b[39;00m(\u001b[38;5;124m\"\u001b[39m\u001b[38;5;124mInvalid Ellipses.\u001b[39m\u001b[38;5;124m\"\u001b[39m)\n\u001b[1;32m    628\u001b[0m         \u001b[38;5;66;03m# Take into account numerical values\u001b[39;00m\n",
      "\u001b[0;31mKeyboardInterrupt\u001b[0m: "
     ]
    }
   ],
   "source": [
    "\n",
    "\n",
    "dis = []\n",
    "mis = []\n",
    "def callback(di, g):\n",
    "    dis.append(decode_d(di))\n",
    "    return True\n",
    "def g(encoded_d):\n",
    "    d = decode_d(encoded_d)\n",
    "    #g_ = grad(lambda d: MI(d, N=50))(d)\n",
    "    g_ = MI(d, N=100)\n",
    "    mis.append(g_)\n",
    "    return -encode_d(g_)\n",
    "dis.append(d0)\n",
    "mis.append(MI(d0, N=30))\n",
    "optimizer(encode_d(d0), grad(g), rate=1, decay=0.0001, iters=100000, callback=callback)\n",
    "dis = np.array(dis)\n",
    "\n"
   ]
  },
  {
   "cell_type": "code",
   "execution_count": 28,
   "id": "7a7c3368",
   "metadata": {},
   "outputs": [
    {
     "data": {
      "text/plain": [
       "Text(0.5, 1.0, 'Points move per iteration (blue is start, orange is end)')"
      ]
     },
     "execution_count": 28,
     "metadata": {},
     "output_type": "execute_result"
    },
    {
     "data": {
      "image/png": "[encoded data removed]",
      "text/plain": [
       "<Figure size 640x480 with 1 Axes>"
      ]
     },
     "metadata": {},
     "output_type": "display_data"
    }
   ],
   "source": [
    "\n",
    "\n",
    "dis = np.array(dis)\n",
    "for p in range(d0.shape[0]):\n",
    "    plt.scatter(dis[0, p, 0], dis[0, p, 1], c=\"blue\") # start\n",
    "    plt.scatter(dis[-1, p, 0], dis[-1, p, 1], c=\"orange\") # end\n",
    "    plt.plot(dis[:, p, 0], dis[:, p, 1], alpha=0.5)\n",
    "plt.title(\"Points move per iteration (blue is start, orange is end)\")\n",
    "\n"
   ]
  },
  {
   "cell_type": "code",
   "execution_count": null,
   "id": "557b65ee",
   "metadata": {},
   "outputs": [],
   "source": []
  }
 ],
 "metadata": {
  "kernelspec": {
   "display_name": "Python 3 (ipykernel)",
   "language": "python",
   "name": "python3"
  },
  "language_info": {
   "codemirror_mode": {
    "name": "ipython",
    "version": 3
   },
   "file_extension": ".py",
   "mimetype": "text/x-python",
   "name": "python",
   "nbconvert_exporter": "python",
   "pygments_lexer": "ipython3",
   "version": "3.10.10"
  }
 },
 "nbformat": 4,
 "nbformat_minor": 5
}
