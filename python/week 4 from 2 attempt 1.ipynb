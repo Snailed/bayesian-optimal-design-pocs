{
 "cells": [
  {
   "cell_type": "code",
   "execution_count": 1,
   "id": "c7c6ee98",
   "metadata": {},
   "outputs": [],
   "source": [
    "\n",
    "\n",
    "import matplotlib.pyplot as plt\n",
    "from matplotlib.patches import Ellipse\n",
    "from tqdm.notebook import tqdm, trange\n",
    "import torch\n",
    "import autograd.numpy as np\n",
    "import autograd.scipy.stats as stats\n",
    "import scipy.optimize as optimize\n",
    "from autograd.scipy.linalg import logm\n",
    "from autograd import grad, jacobian, hessian\n",
    "import numpy\n",
    "import scipy\n",
    "import pandas as pd\n",
    "import ipywidgets as widgets\n",
    "import time\n",
    "from sklearn import linear_model\n",
    "\n"
   ]
  },
  {
   "cell_type": "code",
   "execution_count": 2,
   "id": "f1270544",
   "metadata": {},
   "outputs": [],
   "source": [
    "def decode_q_params(encoded_q):\n",
    "        shape = len(encoded_q)\n",
    "        mean_shape = 3\n",
    "        A_shape = (int(np.sqrt(shape - mean_shape)), int(np.sqrt(shape - mean_shape)))\n",
    "        mean = encoded_q[0:mean_shape]\n",
    "        A = encoded_q[mean_shape:shape].reshape(A_shape)\n",
    "        return mean, A\n",
    "def encode_q_params(q_params):\n",
    "    mean, A = q_params\n",
    "    return np.array(list(mean) + list(A.flatten()))\n",
    "\n",
    "def decode_d(encoded_d, dim=2):\n",
    "    return encoded_d.reshape(int(len(encoded_d)/dim), dim)\n",
    "def encode_d(d):\n",
    "    return d.flatten()\n",
    "\n",
    "def augment_d(d):\n",
    "    return np.concatenate((d.T, [np.ones(len(d))]), axis=0).T"
   ]
  },
  {
   "cell_type": "code",
   "execution_count": 3,
   "id": "f00b914d",
   "metadata": {},
   "outputs": [],
   "source": [
    "\n",
    "\n",
    "def stable_multivariate_gaussian_logpdf(x, mu, cov):\n",
    "    n = cov.shape[-1]\n",
    "    x_mu = x - mu\n",
    "    try:\n",
    "        _, log_det = np.linalg.slogdet(cov)\n",
    "        cov_inv = np.linalg.inv(cov)\n",
    "        prod = np.einsum('...i, ...ij, ...j->...', x_mu, cov_inv, x_mu) # todo: find a way to make this understandable\n",
    "        log_prob = -0.5 * (n * np.log(2 * np.pi) + log_det + prod)\n",
    "    except np.linalg.LinAlgError:\n",
    "        cov_modified = cov + np.eye(n) * 1e-8\n",
    "        _, log_det = np.linalg.slogdet(cov_modified)\n",
    "        cov_inv = np.linalg.inv(cov_modified)\n",
    "        prod = np.einsum('...i, ...ij, ...j->...', x_mu, cov_inv, x_mu)\n",
    "        log_prob = -0.5 * (n * np.log(2 * np.pi) + log_det + prod)\n",
    "    return log_prob\n",
    "\n"
   ]
  },
  {
   "cell_type": "code",
   "execution_count": 4,
   "id": "3e6023d1",
   "metadata": {},
   "outputs": [],
   "source": [
    "\n",
    "\n",
    "def get_posterior(d, y_i):\n",
    "    d = augment_d(d)\n",
    "    var_y = np.var(y_i) * np.eye(len(y_i))\n",
    "    covariance_prior = A_prior @ A_prior.T\n",
    "    mean_theta = covariance_prior @ d.T @ np.linalg.inv(var_y + d @ covariance_prior @ d.T) @ y_i\n",
    "    cov_theta = covariance_prior - covariance_prior @ d.T @ np.linalg.inv(var_y + d @ covariance_prior @ d.T) @ d @ covariance_prior\n",
    "    return mean_theta, np.linalg.cholesky(cov_theta)\n",
    "def get_posteriors(d, y):\n",
    "    d = augment_d(d)\n",
    "    var_y = noise * np.eye(y.shape[1])\n",
    "    covariance_prior = A_prior @ A_prior.T\n",
    "    mean_theta = covariance_prior @ d.T @ np.linalg.inv(var_y + d @ covariance_prior @ d.T) @ y.T\n",
    "    cov_theta = covariance_prior - covariance_prior @ d.T @ np.linalg.inv(var_y + d @ covariance_prior @ d.T) @ d @ covariance_prior\n",
    "    return mean_theta, np.linalg.cholesky(cov_theta)\n",
    "\n"
   ]
  },
  {
   "cell_type": "code",
   "execution_count": 5,
   "id": "75aab4c4",
   "metadata": {},
   "outputs": [],
   "source": [
    "\n",
    "\n",
    "#d0 = np.random.randn(20,2)\n",
    "d0 = np.array([[i, i] for i in range(10)])\n",
    "#A_prior = np.array([[5, -2, 1],\n",
    "#              [-2, 4, -1],\n",
    "#              [1, -1, 3]])\n",
    "A_prior = np.eye(3)\n",
    "mean_prior = np.array([0,0, 0])\n",
    "noise = 1\n",
    "\n"
   ]
  },
  {
   "cell_type": "code",
   "execution_count": 6,
   "id": "a7eede15",
   "metadata": {},
   "outputs": [],
   "source": [
    "def MI(d, N=50):\n",
    "    thetas = np.random.multivariate_normal(mean_prior, A_prior @ A_prior.T, size=N)\n",
    "    z = np.random.randn(N, d.shape[0]) * noise\n",
    "    y = thetas @ augment_d(d).T + z\n",
    "    mean, A = get_posteriors(d, y)\n",
    "    #print(mean.T)\n",
    "    results = [stable_multivariate_gaussian_logpdf(theta_i, mean_i, A @ A.T) for theta_i, mean_i in zip(thetas, mean.T)]\n",
    "    return 1/N * np.sum(results) - 0.5 * np.log(np.linalg.det(2 * np.pi * np.e * (A_prior @ A_prior.T)))"
   ]
  },
  {
   "cell_type": "code",
   "execution_count": 11,
   "id": "f974c4a6",
   "metadata": {},
   "outputs": [],
   "source": [
    "def KLD(mean_q, A_q, mean_p, A_p):\n",
    "        sigma_q = (A_q @ A_q.T)\n",
    "        sigma_p = (A_p @ A_p.T)\n",
    "        bar_sigma_q = np.linalg.norm(sigma_q)\n",
    "        bar_sigma_p = np.linalg.norm(sigma_p)\n",
    "        k = len(mean_q)\n",
    "        return 0.5 * (np.trace(np.linalg.inv(sigma_p) @ sigma_q) + (mean_p - mean_q).T @ np.linalg.inv(sigma_p) @ (mean_p - mean_q) - k + np.log(bar_sigma_p/bar_sigma_q))\n",
    "def KLD_opt(mean_q, A_q, mean_p, A_p):\n",
    "    # Compute Cholesky decomposition\n",
    "    L_p = np.linalg.cholesky(A_p @ A_p.T)\n",
    "    L_q = np.linalg.cholesky(A_q @ A_q.T)\n",
    "\n",
    "    # Compute trace term\n",
    "    trace_term = np.sum(np.log(np.diag(L_p))) - np.sum(np.log(np.diag(L_q)))\n",
    "\n",
    "    # Compute mean difference term\n",
    "    mean_diff = mean_p - mean_q\n",
    "    mean_diff_term = np.dot(np.linalg.solve(L_p.T, np.linalg.solve(L_p, mean_diff)), mean_diff)\n",
    "\n",
    "    # Compute bar_sigma_p and bar_sigma_q\n",
    "    bar_sigma_q = np.linalg.norm(L_q)\n",
    "    bar_sigma_p = np.linalg.norm(L_p)\n",
    "\n",
    "    k = len(mean_q)\n",
    "\n",
    "    return 0.5 * (trace_term + mean_diff_term - k + np.log(bar_sigma_p / bar_sigma_q))\n",
    "def log_likelihood_opt(y, theta, d):\n",
    "    d_offset = np.concatenate((d.T, np.ones((1, len(d)))), axis=0).T\n",
    "    likelihood_cov = np.mean(np.square(y - np.matmul(theta.T, d_offset.T)), axis=1)[:, np.newaxis, np.newaxis] * np.eye(len(d))[np.newaxis, ...]\n",
    "    likelihood_mean = np.matmul(theta.T, d_offset.T)\n",
    "    log_likelihoods = stable_multivariate_gaussian_logpdf(y, likelihood_mean, likelihood_cov)\n",
    "    return log_likelihoods\n",
    "def log_likelihood(y, theta, d):\n",
    "    #print(np.array([np.eye(len(d)) for _ in theta.T]).shape)\n",
    "    d_offset = np.concatenate((d.T, [np.ones(len(d))]), axis=0).T\n",
    "    #print(np.mean(np.square(y - theta.T @ d.T), axis=1))\n",
    "    #print(d)\n",
    "    likelihood_cov = np.mean(np.square(y - theta.T @ d_offset.T), axis=1)[:, np.newaxis, np.newaxis] * np.array([np.eye(len(d)) for _ in theta.T])\n",
    "    #print(likelihood_cov)\n",
    "    likelihood_mean = theta.T @ d_offset.T\n",
    "    return [stable_multivariate_gaussian_logpdf(y, mean, cov) for mean, cov in zip(likelihood_mean, likelihood_cov)]\n",
    "def elbo_optimized(q_params, d, y_i, shape=3, batch_size = 500):\n",
    "    #print(\"Computing elbo for \", q_params, d, y_i)\n",
    "    mean, A = q_params\n",
    "    #values = np.random.multivariate_normal(np.zeros(shape), np.eye(shape), size=batch_size)\n",
    "    #theta = mean + A @ values.T\n",
    "    sample_values = np.random.multivariate_normal(np.zeros(3), np.eye(3), size=batch_size)\n",
    "    theta = np.expand_dims(mean, axis=1) + A @ sample_values.T\n",
    "    lik = log_likelihood_opt(y_i, theta, d)\n",
    "    mean_term = (1/batch_size) * np.sum(lik)\n",
    "    kld_term = KLD(mean, A, mean_prior, A_prior)\n",
    "    #print(lik[0])\n",
    "    \n",
    "    return mean_term - kld_term\n",
    "\n",
    "def reshape_jacobian(jac):\n",
    "    return np.array([encode_d(jac[i]) for i in range(jac.shape[0]) ])"
   ]
  },
  {
   "cell_type": "code",
   "execution_count": 48,
   "id": "db7512e8",
   "metadata": {},
   "outputs": [],
   "source": [
    "def q_grad(theta, q_params, d, y_i):\n",
    "    q_mean, q_A = q_params\n",
    "    inverse_hessian = np.linalg.inv(hessian(lambda eq: elbo_optimized(decode_q_params(eq), d, y_i))(encode_q_params(q_params)))\n",
    "    mixed_partials = jacobian(lambda eq: grad(lambda d: elbo_optimized(decode_q_params(eq), decode_d(d), y_i))(encode_d(d)))(encode_q_params(q_params)).T\n",
    "    jac = - inverse_hessian @ mixed_partials\n",
    "    #print(grad(lambda eq: np.exp(stable_multivariate_gaussian_logpdf(theta, decode_q_params(eq)[0], decode_q_params(eq)[1])))(encode_q_params(q_params)) @ jac)\n",
    "    return jac\n",
    "def MI_grad(d):\n",
    "    N = 2\n",
    "    M = 2\n",
    "    results = []\n",
    "    for i in tqdm(range(int(N)), desc=\"Inner loop\", leave=False):\n",
    "        eps = np.random.randn(N, len(d))\n",
    "        zs = np.random.randn(M, 3)\n",
    "        for j in range(M):\n",
    "            theta_j = mean_prior + A_prior @ zs[j]\n",
    "            y_ij = augment_d(d) @ theta_j + eps[i]\n",
    "            q_params = get_posterior(d, y_ij)\n",
    "            def q(theta):\n",
    "                return stable_multivariate_gaussian_logpdf(theta, q_params[0], q_params[1] @ q_params[1].T)\n",
    "            results.append(np.exp(np.log(q_grad(theta_j, q_params, d, y_ij)) - q(theta_j)))\n",
    "    return decode_d(np.mean(np.array(results), axis=0), dim=2)\n",
    "def MI_grad_1(d):\n",
    "    N = 5\n",
    "    M = 5\n",
    "    results = []\n",
    "    for i in tqdm(range(int(N)), desc=\"Inner loop\", leave=False):\n",
    "        eps = np.random.randn(N, len(d))\n",
    "        zs = np.random.randn(M, 3)\n",
    "        for j in range(M):\n",
    "            theta_j = mean_prior + A_prior @ zs[j]\n",
    "            y_ij = augment_d(d) @ theta_j + eps[i]\n",
    "            def q(d):\n",
    "                d = decode_d(d)\n",
    "                q_params = get_posterior(d, y_ij)\n",
    "                return stable_multivariate_gaussian_logpdf(theta_j, q_params[0], q_params[1] @ q_params[1].T)\n",
    "            # results.append(grad(q)(encode_d(d))) unnescessary, confirmed\n",
    "            results.append(1/np.exp(q(encode_d(d))) * grad(lambda d: np.exp(q(d)))(encode_d(d)))\n",
    "            q_params = get_posterior(d, y_ij)\n",
    "            #print(\"---- \\n \", grad(lambda d: np.exp(q(d)))(encode_d(d)), (grad(lambda eq: np.exp(stable_multivariate_gaussian_logpdf(theta_j, decode_q_params(eq)[0], decode_q_params(eq)[1])))(encode_q_params(q_params))) @ (jacobian(lambda ed: encode_q_params(get_posterior(decode_d(ed), y_ij)))(encode_d(d))))\n",
    "    return decode_d(np.mean(np.array(results), axis=0), dim=2)\n",
    "\n",
    "def MI_grad_2(d): # WORKS\n",
    "    N = 5\n",
    "    M = 5\n",
    "    results = []\n",
    "    for i in tqdm(range(int(N)), desc=\"Inner loop\", leave=False):\n",
    "        eps = np.random.randn(N, len(d))\n",
    "        zs = np.random.randn(M, 3)\n",
    "        for j in range(M):\n",
    "            theta_j = mean_prior + A_prior @ zs[j]\n",
    "            y_ij = augment_d(d) @ theta_j + eps[i]\n",
    "            def g(d):\n",
    "                return encode_q_params(get_posterior(d, y_ij))\n",
    "            def q_(theta, lam):\n",
    "                mean, A = decode_q_params(lam)\n",
    "                return np.exp(stable_multivariate_gaussian_logpdf(theta, mean, A @ A.T))\n",
    "            expected = grad(lambda d: np.exp(q(d)))(encode_d(d))\n",
    "            #g1 = grad(lambda d: q_(theta_j, g(d)))(d)\n",
    "            g1 = grad(lambda lam: q_(theta, lam))(encode_q_params(get_posterior(d, y_ij)))\n",
    "            #g2 = reshape_jacobian(jacobian(lambda d: encode_q_params(get_posterior(d, y_ij)))(d))\n",
    "            g2 = reshape_jacobian(jacobian(g)(d))\n",
    "            actual = g1 @ g2\n",
    "            results.append(actual)\n",
    "    return decode_d(np.mean(np.array(results), axis=0), dim=2)\n",
    "\n",
    "def MI_grad_2(d): # WORKS (atleast pretty sure)\n",
    "    N = 5\n",
    "    M = 5\n",
    "    results = []\n",
    "    for i in tqdm(range(int(N)), desc=\"Inner loop\", leave=False):\n",
    "        eps = np.random.randn(N, len(d))\n",
    "        zs = np.random.randn(M, 3)\n",
    "        for j in range(M):\n",
    "            theta_j = mean_prior + A_prior @ zs[j]\n",
    "            y_ij = augment_d(d) @ theta_j + eps[i]\n",
    "            def g(d):\n",
    "                return encode_q_params(get_posterior(d, y_ij))\n",
    "            def q_(theta, lam):\n",
    "                mean, A = decode_q_params(lam)\n",
    "                return np.exp(stable_multivariate_gaussian_logpdf(theta, mean, A @ A.T))\n",
    "            #expected = grad(lambda d: np.exp(q(d)))(encode_d(d))\n",
    "            #g1 = grad(lambda d: q_(theta_j, g(d)))(d)\n",
    "            g1 = grad(lambda lam: q_(theta_j, lam))(encode_q_params(get_posterior(d, y_ij)))\n",
    "            #g2 = reshape_jacobian(jacobian(lambda d: encode_q_params(get_posterior(d, y_ij)))(d))\n",
    "            g2 = reshape_jacobian(jacobian(g)(d))\n",
    "            g2 = q_grad(theta_j, get_posterior(d, y_ij), d, y_ij)\n",
    "            actual = g1 @ g2\n",
    "            results.append(actual)\n",
    "    return decode_d(np.mean(np.array(results), axis=0), dim=2)\n",
    "def optimal_q(d, y_i, rate=0.1, decay=0.5, iters=100, start_params=(mean_prior, A_prior)):\n",
    "    def objective_f(encoded_q):\n",
    "        q_params = decode_q_params(encoded_q)\n",
    "        return - elbo_optimized(q_params, d, y_i)\n",
    "    def callback(qi, g):\n",
    "        mean, A = decode_q_params(qi)\n",
    "        return True\n",
    "    results = optimizer(\n",
    "        encode_q_params(\n",
    "            start_params\n",
    "        ), \n",
    "        grad(objective_f), \n",
    "        callback=callback, \n",
    "        label=\"Optimizing for q\", \n",
    "        leave=False, \n",
    "        rate=rate,\n",
    "        iters=iters, \n",
    "        thres=0.1,\n",
    "        decay=decay\n",
    "    )\n",
    "    return decode_q_params(results)\n",
    "def MI_grad_3(d): # WORKS (atleast pretty sure)\n",
    "    N = 5\n",
    "    M = 1\n",
    "    results = []\n",
    "    start_params = (mean_prior, A_prior)\n",
    "    for i in tqdm(range(int(N)), desc=\"Inner loop\", leave=False):\n",
    "        eps = np.random.randn(N, len(d))\n",
    "        zs = np.random.randn(M, 3)\n",
    "        for j in range(M):\n",
    "            theta_j = mean_prior + A_prior @ zs[j]\n",
    "            y_ij = augment_d(d) @ theta_j + eps[i]\n",
    "            def g(d):\n",
    "                return encode_q_params(get_posterior(d, y_ij))\n",
    "            def q_(theta, lam):\n",
    "                mean, A = decode_q_params(lam)\n",
    "                return np.exp(stable_multivariate_gaussian_logpdf(theta, mean, A @ A.T))\n",
    "            #expected = grad(lambda d: np.exp(q(d)))(encode_d(d))\n",
    "            #g1 = grad(lambda d: q_(theta_j, g(d)))(d)\n",
    "            q_params = optimal_q(d, y_ij, rate=0.1, decay=0.01, iters=2e2, start_params=start_params)\n",
    "            start_params = q_params\n",
    "            g1 = grad(lambda lam: q_(theta_j, lam))(encode_q_params(q_params))\n",
    "            #g2 = reshape_jacobian(jacobian(lambda d: encode_q_params(get_posterior(d, y_ij)))(d))\n",
    "            g2 = reshape_jacobian(jacobian(g)(d))\n",
    "            g2 = q_grad(theta_j, q_params, d, y_ij)\n",
    "            actual = g1 @ g2\n",
    "            \n",
    "            g1_ = grad(lambda lam: q_(theta_j, lam))(encode_q_params(get_posterior(d, y_ij)))\n",
    "            #g2 = reshape_jacobian(jacobian(lambda d: encode_q_params(get_posterior(d, y_ij)))(d))\n",
    "            g2_ = reshape_jacobian(jacobian(g)(d))\n",
    "            g2_ = q_grad(theta_j, get_posterior(d, y_ij), d, y_ij)\n",
    "            actual_ = g1_ @ g2_\n",
    "            results.append(actual)\n",
    "    return decode_d(np.mean(np.array(results), axis=0), dim=2)\n"
   ]
  },
  {
   "cell_type": "code",
   "execution_count": 49,
   "id": "8ff66cdf",
   "metadata": {},
   "outputs": [],
   "source": [
    "def optimizer(x0, gradient, callback=lambda x, g: True, rate=1, decay=0.5, iters=1e1, label=None, leave=True, thres=0.1):\n",
    "    x = x0\n",
    "    for i in tqdm(range(int(iters)), desc=label, leave=leave):\n",
    "        r = rate * 1/(10+i*decay)\n",
    "        g = gradient(x)\n",
    "        x = -g * r + x\n",
    "        #if i > 0 and np.linalg.norm(g) < thres or np.linalg.norm(g) > 10:\n",
    "        #    break\n",
    "        if i % 1 == 0:\n",
    "            if not callback(x, g):\n",
    "                break\n",
    "    return x"
   ]
  },
  {
   "cell_type": "code",
   "execution_count": null,
   "id": "96d56b2e",
   "metadata": {},
   "outputs": [
    {
     "data": {
      "application/vnd.jupyter.widget-view+json": {
       "model_id": "5d46c472c5fb4fdf9e16b5eaf1c7bc2b",
       "version_major": 2,
       "version_minor": 0
      },
      "text/plain": [
       "  0%|          | 0/100000 [00:00<?, ?it/s]"
      ]
     },
     "metadata": {},
     "output_type": "display_data"
    },
    {
     "data": {
      "application/vnd.jupyter.widget-view+json": {
       "model_id": "",
       "version_major": 2,
       "version_minor": 0
      },
      "text/plain": [
       "Inner loop:   0%|          | 0/5 [00:00<?, ?it/s]"
      ]
     },
     "metadata": {},
     "output_type": "display_data"
    },
    {
     "data": {
      "application/vnd.jupyter.widget-view+json": {
       "model_id": "",
       "version_major": 2,
       "version_minor": 0
      },
      "text/plain": [
       "Optimizing for q:   0%|          | 0/200 [00:00<?, ?it/s]"
      ]
     },
     "metadata": {},
     "output_type": "display_data"
    },
    {
     "name": "stdout",
     "output_type": "stream",
     "text": [
      "[-0.08553171 -0.08553171 -0.27339221]\n"
     ]
    },
    {
     "data": {
      "application/vnd.jupyter.widget-view+json": {
       "model_id": "",
       "version_major": 2,
       "version_minor": 0
      },
      "text/plain": [
       "Optimizing for q:   0%|          | 0/200 [00:00<?, ?it/s]"
      ]
     },
     "metadata": {},
     "output_type": "display_data"
    },
    {
     "name": "stdout",
     "output_type": "stream",
     "text": [
      "[-0.09857794 -0.09857794 -0.05750065]\n"
     ]
    },
    {
     "data": {
      "application/vnd.jupyter.widget-view+json": {
       "model_id": "",
       "version_major": 2,
       "version_minor": 0
      },
      "text/plain": [
       "Optimizing for q:   0%|          | 0/200 [00:00<?, ?it/s]"
      ]
     },
     "metadata": {},
     "output_type": "display_data"
    },
    {
     "name": "stdout",
     "output_type": "stream",
     "text": [
      "[-0.11090286 -0.11090286 -0.11785803]\n"
     ]
    },
    {
     "data": {
      "application/vnd.jupyter.widget-view+json": {
       "model_id": "",
       "version_major": 2,
       "version_minor": 0
      },
      "text/plain": [
       "Optimizing for q:   0%|          | 0/200 [00:00<?, ?it/s]"
      ]
     },
     "metadata": {},
     "output_type": "display_data"
    },
    {
     "name": "stdout",
     "output_type": "stream",
     "text": [
      "[-0.11680886 -0.11680886  0.62940166]\n"
     ]
    },
    {
     "data": {
      "application/vnd.jupyter.widget-view+json": {
       "model_id": "",
       "version_major": 2,
       "version_minor": 0
      },
      "text/plain": [
       "Optimizing for q:   0%|          | 0/200 [00:00<?, ?it/s]"
      ]
     },
     "metadata": {},
     "output_type": "display_data"
    },
    {
     "name": "stdout",
     "output_type": "stream",
     "text": [
      "[-0.0508501  -0.0508501   0.44467265]\n",
      "Gradient norm  2.945284864352421e-82\n"
     ]
    },
    {
     "data": {
      "application/vnd.jupyter.widget-view+json": {
       "model_id": "",
       "version_major": 2,
       "version_minor": 0
      },
      "text/plain": [
       "Inner loop:   0%|          | 0/5 [00:00<?, ?it/s]"
      ]
     },
     "metadata": {},
     "output_type": "display_data"
    },
    {
     "data": {
      "application/vnd.jupyter.widget-view+json": {
       "model_id": "",
       "version_major": 2,
       "version_minor": 0
      },
      "text/plain": [
       "Optimizing for q:   0%|          | 0/200 [00:00<?, ?it/s]"
      ]
     },
     "metadata": {},
     "output_type": "display_data"
    },
    {
     "name": "stdout",
     "output_type": "stream",
     "text": [
      "[0.05756012 0.05756012 0.13328758]\n"
     ]
    },
    {
     "data": {
      "application/vnd.jupyter.widget-view+json": {
       "model_id": "",
       "version_major": 2,
       "version_minor": 0
      },
      "text/plain": [
       "Optimizing for q:   0%|          | 0/200 [00:00<?, ?it/s]"
      ]
     },
     "metadata": {},
     "output_type": "display_data"
    },
    {
     "name": "stdout",
     "output_type": "stream",
     "text": [
      "[ 0.11247563  0.11247563 -0.72912739]\n"
     ]
    },
    {
     "data": {
      "application/vnd.jupyter.widget-view+json": {
       "model_id": "",
       "version_major": 2,
       "version_minor": 0
      },
      "text/plain": [
       "Optimizing for q:   0%|          | 0/200 [00:00<?, ?it/s]"
      ]
     },
     "metadata": {},
     "output_type": "display_data"
    },
    {
     "name": "stdout",
     "output_type": "stream",
     "text": [
      "[-0.00667945 -0.00667945  0.63332365]\n"
     ]
    },
    {
     "data": {
      "application/vnd.jupyter.widget-view+json": {
       "model_id": "",
       "version_major": 2,
       "version_minor": 0
      },
      "text/plain": [
       "Optimizing for q:   0%|          | 0/200 [00:00<?, ?it/s]"
      ]
     },
     "metadata": {},
     "output_type": "display_data"
    },
    {
     "name": "stdout",
     "output_type": "stream",
     "text": [
      "[-0.09318425 -0.09318425  0.65397486]\n"
     ]
    },
    {
     "data": {
      "application/vnd.jupyter.widget-view+json": {
       "model_id": "",
       "version_major": 2,
       "version_minor": 0
      },
      "text/plain": [
       "Optimizing for q:   0%|          | 0/200 [00:00<?, ?it/s]"
      ]
     },
     "metadata": {},
     "output_type": "display_data"
    },
    {
     "name": "stdout",
     "output_type": "stream",
     "text": [
      "[ 0.02176713  0.02176713 -0.91897365]\n",
      "Gradient norm  361.57023662176294\n"
     ]
    },
    {
     "data": {
      "application/vnd.jupyter.widget-view+json": {
       "model_id": "403cba070a48466592f481ed4c9808dc",
       "version_major": 2,
       "version_minor": 0
      },
      "text/plain": [
       "Inner loop:   0%|          | 0/5 [00:00<?, ?it/s]"
      ]
     },
     "metadata": {},
     "output_type": "display_data"
    },
    {
     "data": {
      "application/vnd.jupyter.widget-view+json": {
       "model_id": "",
       "version_major": 2,
       "version_minor": 0
      },
      "text/plain": [
       "Optimizing for q:   0%|          | 0/200 [00:00<?, ?it/s]"
      ]
     },
     "metadata": {},
     "output_type": "display_data"
    },
    {
     "name": "stdout",
     "output_type": "stream",
     "text": [
      "[-0.11308055  0.01572779 -0.06264769]\n"
     ]
    },
    {
     "data": {
      "application/vnd.jupyter.widget-view+json": {
       "model_id": "a4afcbf07e6f494f9e7105ab804eda44",
       "version_major": 2,
       "version_minor": 0
      },
      "text/plain": [
       "Optimizing for q:   0%|          | 0/200 [00:00<?, ?it/s]"
      ]
     },
     "metadata": {},
     "output_type": "display_data"
    }
   ],
   "source": [
    "\n",
    "\n",
    "dis = []\n",
    "mis = []\n",
    "def callback(di, g):\n",
    "    dis.append(decode_d(di))\n",
    "    return True\n",
    "def g(encoded_d):\n",
    "    d = decode_d(encoded_d)\n",
    "    #g_ = grad(lambda d: MI(d, N=50))(d)\n",
    "    g_ = MI(d, N=100)\n",
    "    mis.append(g_)\n",
    "    print(\"MI\", mis[-1])\n",
    "    return -encode_d(g_)\n",
    "\n",
    "def g_grad(encoded_d):\n",
    "    d = decode_d(encoded_d)\n",
    "    #g_ = grad(lambda d: MI(d, N=50))(d)\n",
    "    g_ = MI(d, N=100)\n",
    "    mis.append(g_)\n",
    "    print(\"MI\", mis[-1])\n",
    "    return -encode_d(MI_grad(d))\n",
    "def g_grad_1(encoded_d):\n",
    "    d = decode_d(encoded_d)\n",
    "    #g_ = grad(lambda d: MI(d, N=50))(d)\n",
    "    g_ = MI(d, N=100)\n",
    "    mis.append(g_)\n",
    "    #print(\"MI\", mis[-1])\n",
    "    return -encode_d(MI_grad_1(d))\n",
    "def g_grad_2(encoded_d):\n",
    "    d = decode_d(encoded_d)\n",
    "    #g_ = grad(lambda d: MI(d, N=50))(d)\n",
    "    g_ = MI(d, N=100)\n",
    "    mis.append(g_)\n",
    "    #print(\"MI\", mis[-1])\n",
    "    return -encode_d(MI_grad_2(d))\n",
    "def g_grad_3(encoded_d):\n",
    "    d = decode_d(encoded_d)\n",
    "    #g_ = grad(lambda d: MI(d, N=50))(d)\n",
    "    g_ = MI(d, N=100)\n",
    "    mis.append(g_)\n",
    "    gra = MI_grad_3(d)\n",
    "    print(\"Gradient norm \", np.linalg.norm(gra))\n",
    "    #print(\"MI\", mis[-1])\n",
    "    return -encode_d(gra)\n",
    "dis.append(d0)\n",
    "mis.append(MI(d0, N=30))\n",
    "optimizer(encode_d(d0), g_grad_3, rate=1, decay=0.0001, iters=100000, callback=callback)\n",
    "dis = np.array(dis)\n",
    "\n"
   ]
  },
  {
   "cell_type": "code",
   "execution_count": 46,
   "id": "7a7c3368",
   "metadata": {},
   "outputs": [
    {
     "data": {
      "text/plain": [
       "Text(0.5, 1.0, 'Points move per iteration (blue is start, orange is end)')"
      ]
     },
     "execution_count": 46,
     "metadata": {},
     "output_type": "execute_result"
    },
    {
     "data": {
      "image/png": "[encoded data removed]",
      "text/plain": [
       "<Figure size 640x480 with 1 Axes>"
      ]
     },
     "metadata": {},
     "output_type": "display_data"
    }
   ],
   "source": [
    "\n",
    "\n",
    "dis = np.array(dis)\n",
    "for p in range(d0.shape[0]):\n",
    "    plt.scatter(dis[0, p, 0], dis[0, p, 1], c=\"blue\") # start\n",
    "    plt.scatter(dis[-1, p, 0], dis[-1, p, 1], c=\"orange\") # end\n",
    "    plt.plot(dis[:, p, 0], dis[:, p, 1], alpha=0.5)\n",
    "plt.title(\"Points move per iteration (blue is start, orange is end)\")\n",
    "\n"
   ]
  },
  {
   "cell_type": "code",
   "execution_count": 47,
   "id": "557b65ee",
   "metadata": {},
   "outputs": [
    {
     "data": {
      "text/plain": [
       "[<matplotlib.lines.Line2D at 0x7f21507277c0>]"
      ]
     },
     "execution_count": 47,
     "metadata": {},
     "output_type": "execute_result"
    },
    {
     "data": {
      "image/png": "[encoded data removed]",
      "text/plain": [
       "<Figure size 640x480 with 1 Axes>"
      ]
     },
     "metadata": {},
     "output_type": "display_data"
    }
   ],
   "source": [
    "plt.plot(list(range(len(mis))), mis)"
   ]
  },
  {
   "cell_type": "markdown",
   "id": "f39d2bd7",
   "metadata": {},
   "source": [
    "# Tests"
   ]
  },
  {
   "cell_type": "code",
   "execution_count": null,
   "id": "71e5d760",
   "metadata": {},
   "outputs": [],
   "source": [
    "# Problem: The chain rule application into jacobian + lambda-grad does not work\n",
    "theta_j = mean_prior\n",
    "d = d0\n",
    "y_ij = augment_d(d0) @ mean_prior + np.random.randn(10)\n",
    "q_params = get_posterior(d, y)"
   ]
  },
  {
   "cell_type": "code",
   "execution_count": null,
   "id": "27756fe7",
   "metadata": {},
   "outputs": [],
   "source": [
    "\n",
    "def q(d):\n",
    "    d = decode_d(d)\n",
    "    q_params = get_posterior(d, y_ij)\n",
    "    return stable_multivariate_gaussian_logpdf(theta_j, q_params[0], q_params[1] @ q_params[1].T)\n",
    "def g(d):\n",
    "    return encode_q_params(get_posterior(d, y_ij))\n",
    "def q_(theta, lam):\n",
    "    mean, A = decode_q_params(lam)\n",
    "    return np.exp(stable_multivariate_gaussian_logpdf(theta, mean, A @ A.T))\n",
    "expected = grad(lambda d: np.exp(q(d)))(encode_d(d))\n",
    "#g1 = grad(lambda d: q_(theta_j, g(d)))(d)\n",
    "g1 = grad(lambda lam: q_(theta, lam))(encode_q_params(get_posterior(d, y_ij)))\n",
    "print(g1)\n",
    "\n",
    "\n",
    "#g2 = reshape_jacobian(jacobian(lambda d: encode_q_params(get_posterior(d, y_ij)))(d))\n",
    "g2 = reshape_jacobian(jacobian(g)(d))\n",
    "actual = g1 @ g2"
   ]
  },
  {
   "cell_type": "code",
   "execution_count": null,
   "id": "ca1ee89d",
   "metadata": {},
   "outputs": [],
   "source": [
    "expected"
   ]
  },
  {
   "cell_type": "code",
   "execution_count": null,
   "id": "a1396b82",
   "metadata": {},
   "outputs": [],
   "source": [
    "actual"
   ]
  },
  {
   "cell_type": "code",
   "execution_count": null,
   "id": "8a7007d9",
   "metadata": {},
   "outputs": [],
   "source": [
    " grad(lambda eq: np.exp(stable_multivariate_gaussian_logpdf(theta_j, decode_q_params(eq)[0], decode_q_params(eq)[1])))(encode_q_params((np.ones(3)*2, np.eye(3))))"
   ]
  },
  {
   "cell_type": "code",
   "execution_count": null,
   "id": "e537d2de",
   "metadata": {},
   "outputs": [],
   "source": [
    "decode_q_params(jacobian(lambda ed: encode_q_params(get_posterior(decode_d(ed), y_ij[0:2])))(encode_d(d[0:2]))[:,0])"
   ]
  },
  {
   "cell_type": "code",
   "execution_count": null,
   "id": "110c633a",
   "metadata": {},
   "outputs": [],
   "source": [
    "def test_f(ed):\n",
    "    print(ed)\n",
    "    return encode_q_params(get_posterior(decode_d(ed), y_ij))\n",
    "jacobian(test_f)(encode_d(d))"
   ]
  },
  {
   "cell_type": "code",
   "execution_count": null,
   "id": "097557bc",
   "metadata": {},
   "outputs": [],
   "source": [
    "get_posterior(d, y_ij)"
   ]
  },
  {
   "cell_type": "markdown",
   "id": "1296ffd9",
   "metadata": {},
   "source": [
    "# Autograd IFT test"
   ]
  },
  {
   "cell_type": "code",
   "execution_count": null,
   "id": "70877495",
   "metadata": {},
   "outputs": [],
   "source": [
    "def q(theta,lam):\n",
    "    mean, A = decode_q_params(lam)\n",
    "    return np.exp(stable_multivariate_gaussian_logpdf(theta, mean, A @ A.T))\n",
    "def g(d):\n",
    "    return encode_q_params(get_posterior(d, y_ij))\n",
    "def reshape_jacobian(jac):\n",
    "    return np.array([encode_d(jac[i]) for i in range(jac.shape[0]) ])"
   ]
  },
  {
   "cell_type": "code",
   "execution_count": null,
   "id": "ebb85d4f",
   "metadata": {},
   "outputs": [],
   "source": [
    "q(theta, g(d))\n",
    "grad(lambda d: q(theta, g(d)))(d)"
   ]
  },
  {
   "cell_type": "code",
   "execution_count": null,
   "id": "436dbdd6",
   "metadata": {},
   "outputs": [],
   "source": [
    "g1"
   ]
  },
  {
   "cell_type": "code",
   "execution_count": null,
   "id": "b790ede7",
   "metadata": {},
   "outputs": [],
   "source": [
    "grad(lambda lam: q(theta, lam))(encode_q_params(get_posterior(d, y_ij)))"
   ]
  },
  {
   "cell_type": "code",
   "execution_count": null,
   "id": "5486c5db",
   "metadata": {},
   "outputs": [],
   "source": [
    "(grad(lambda lam: q(theta, lam))(encode_q_params(get_posterior(d, y_ij))) @ encode_jacobian(jacobian(g)(d))).reshape(d.shape[0], d.shape[1])"
   ]
  },
  {
   "cell_type": "code",
   "execution_count": null,
   "id": "78c9085d",
   "metadata": {},
   "outputs": [],
   "source": [
    "reshape_jacobian(jacobian(g)(d))"
   ]
  },
  {
   "cell_type": "code",
   "execution_count": null,
   "id": "1ddb2844",
   "metadata": {},
   "outputs": [],
   "source": [
    "d.shape"
   ]
  },
  {
   "cell_type": "code",
   "execution_count": null,
   "id": "4b91e217",
   "metadata": {},
   "outputs": [],
   "source": []
  }
 ],
 "metadata": {
  "kernelspec": {
   "display_name": "Python 3 (ipykernel)",
   "language": "python",
   "name": "python3"
  },
  "language_info": {
   "codemirror_mode": {
    "name": "ipython",
    "version": 3
   },
   "file_extension": ".py",
   "mimetype": "text/x-python",
   "name": "python",
   "nbconvert_exporter": "python",
   "pygments_lexer": "ipython3",
   "version": "3.10.10"
  }
 },
 "nbformat": 4,
 "nbformat_minor": 5
}
