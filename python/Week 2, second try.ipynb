{
 "cells": [
  {
   "cell_type": "code",
   "execution_count": 1,
   "id": "fd878c6d",
   "metadata": {},
   "outputs": [],
   "source": [
    "import matplotlib.pyplot as plt\n",
    "from matplotlib.patches import Ellipse\n",
    "from tqdm.notebook import tqdm, trange\n",
    "import torch\n",
    "import autograd.numpy as np\n",
    "import autograd.scipy.stats as stats\n",
    "import scipy.optimize as optimize\n",
    "from autograd.scipy.linalg import logm\n",
    "from autograd import grad, jacobian, hessian\n",
    "import numpy\n",
    "import scipy\n",
    "import pandas as pd\n",
    "import ipywidgets as widgets\n",
    "import time\n",
    "from sklearn import linear_model"
   ]
  },
  {
   "cell_type": "code",
   "execution_count": 2,
   "id": "80f540d2",
   "metadata": {},
   "outputs": [],
   "source": [
    "def decode_q_params(encoded_q):\n",
    "        shape = len(encoded_q)\n",
    "        mean_shape = 3\n",
    "        A_shape = (int(np.sqrt(shape - mean_shape)), int(np.sqrt(shape - mean_shape)))\n",
    "        mean = encoded_q[0:mean_shape]\n",
    "        A = encoded_q[mean_shape:shape].reshape(A_shape)\n",
    "        return mean, A\n",
    "def encode_q_params(q_params):\n",
    "    mean, A = q_params\n",
    "    return np.array(list(mean) + list(A.flatten()))\n",
    "\n",
    "def decode_d(encoded_d, dim=2):\n",
    "    return encoded_d.reshape(int(len(encoded_d)/dim), dim)\n",
    "def encode_d(d):\n",
    "    return d.flatten()\n",
    "\n",
    "def augment_d(d):\n",
    "    return np.concatenate((d.T, [np.ones(len(d))]), axis=0).T"
   ]
  },
  {
   "cell_type": "code",
   "execution_count": null,
   "id": "183b95de",
   "metadata": {},
   "outputs": [],
   "source": []
  },
  {
   "cell_type": "code",
   "execution_count": 3,
   "id": "e6166fbc",
   "metadata": {},
   "outputs": [],
   "source": [
    "def stable_multivariate_gaussian_logpdf(x, mu, cov):\n",
    "    n = cov.shape[-1]\n",
    "    x_mu = x - mu\n",
    "    try:\n",
    "        _, log_det = np.linalg.slogdet(cov)\n",
    "        cov_inv = np.linalg.inv(cov)\n",
    "        prod = np.einsum('...i, ...ij, ...j->...', x_mu, cov_inv, x_mu) # todo: find a way to make this understandable\n",
    "        log_prob = -0.5 * (n * np.log(2 * np.pi) + log_det + prod)\n",
    "    except np.linalg.LinAlgError:\n",
    "        cov_modified = cov + np.eye(n) * 1e-8\n",
    "        _, log_det = np.linalg.slogdet(cov_modified)\n",
    "        cov_inv = np.linalg.inv(cov_modified)\n",
    "        prod = np.einsum('...i, ...ij, ...j->...', x_mu, cov_inv, x_mu)\n",
    "        log_prob = -0.5 * (n * np.log(2 * np.pi) + log_det + prod)\n",
    "    return log_prob"
   ]
  },
  {
   "cell_type": "code",
   "execution_count": 4,
   "id": "2fdbc791",
   "metadata": {},
   "outputs": [],
   "source": [
    "def get_posterior(d, y_i):\n",
    "    d = np.concatenate((d, np.array([np.ones(d.shape[0])]).T), axis=1)\n",
    "    var_y = np.var(y_i) * np.eye(len(y_i))\n",
    "    covariance_prior = A_prior @ A_prior.T\n",
    "    mean_theta = covariance_prior @ d.T @ np.linalg.inv(var_y + d @ covariance_prior @ d.T) @ y_i\n",
    "    cov_theta = covariance_prior - covariance_prior @ d.T @ np.linalg.inv(var_y + d @ covariance_prior @ d.T) @ d @ covariance_prior\n",
    "    return mean_theta, np.linalg.cholesky(cov_theta)\n",
    "def get_posteriors(d, y):\n",
    "    d = augment_d(d)\n",
    "    var_y = noise * np.eye(y.shape[1])\n",
    "    covariance_prior = A_prior @ A_prior.T\n",
    "    mean_theta = covariance_prior @ d.T @ np.linalg.inv(var_y + d @ covariance_prior @ d.T) @ y.T\n",
    "    cov_theta = covariance_prior - covariance_prior @ d.T @ np.linalg.inv(var_y + d @ covariance_prior @ d.T) @ d @ covariance_prior\n",
    "    return mean_theta, np.linalg.cholesky(cov_theta)"
   ]
  },
  {
   "cell_type": "code",
   "execution_count": 16,
   "id": "dbbffdee",
   "metadata": {},
   "outputs": [],
   "source": [
    "#d0 = np.random.randn(20,2)\n",
    "d0 = np.array([[0,0] for i in range(10)])\n",
    "#A_prior = np.array([[5, -2, 1],\n",
    "#              [-2, 4, -1],\n",
    "#              [1, -1, 3]])\n",
    "A_prior = np.eye(3)\n",
    "mean_prior = np.array([100,100, 0])\n",
    "noise = 1"
   ]
  },
  {
   "cell_type": "code",
   "execution_count": 6,
   "id": "642a3100",
   "metadata": {},
   "outputs": [
    {
     "name": "stdout",
     "output_type": "stream",
     "text": [
      "(array([0.        , 0.        , 1.30381425]), array([[1.        , 0.        , 0.        ],\n",
      "       [0.        , 1.        , 0.        ],\n",
      "       [0.        , 0.        , 0.21857101]]))\n",
      "(array([[0.        , 0.        ],\n",
      "       [0.        , 0.        ],\n",
      "       [1.24475156, 0.40156995]]), array([[1.        , 0.        , 0.        ],\n",
      "       [0.        , 1.        , 0.        ],\n",
      "       [0.        , 0.        , 0.30151134]]))\n"
     ]
    }
   ],
   "source": [
    "theta = np.random.multivariate_normal(mean_prior, A_prior @ A_prior.T)\n",
    "theta2 = np.random.multivariate_normal(mean_prior, A_prior @ A_prior.T)\n",
    "\n",
    "z = np.random.randn(d0.shape[0]) * noise\n",
    "z2 = np.random.randn(d0.shape[0]) * noise\n",
    "print(get_posterior(d0, theta @ augment_d(d0).T + z))\n",
    "print(get_posteriors(np.array(d0), np.array([theta @ augment_d(d0).T + z, theta2 @ augment_d(d0).T + z2])))"
   ]
  },
  {
   "cell_type": "code",
   "execution_count": 7,
   "id": "8bf7a3b6",
   "metadata": {},
   "outputs": [],
   "source": [
    "def MI(d, N=50):\n",
    "    thetas = np.random.multivariate_normal(mean_prior, A_prior @ A_prior.T, size=N)\n",
    "    z = np.random.randn(N, d.shape[0]) * noise\n",
    "    y = thetas @ augment_d(d).T + z\n",
    "    mean, A = get_posteriors(d, y)\n",
    "    #print(mean.T)\n",
    "    results = [stable_multivariate_gaussian_logpdf(theta_i, mean_i, A @ A.T) for theta_i, mean_i in zip(thetas, mean.T)]\n",
    "    return 1/N * np.sum(results) - 0.5 * np.log(np.linalg.det(2 * np.pi * np.e * (A_prior @ A_prior.T)))"
   ]
  },
  {
   "cell_type": "code",
   "execution_count": 8,
   "id": "bc2a5303",
   "metadata": {},
   "outputs": [],
   "source": [
    "cov_prior = A_prior @ A_prior.T\n",
    "def mutual_information(d):\n",
    "    N = 10 # amount of theta samples\n",
    "    M = 5 # amount of z samples\n",
    "    thetas = np.random.multivariate_normal(mean_prior, cov_prior, N)\n",
    "    results = []\n",
    "    for theta in thetas:\n",
    "        zs = np.random.randn(M)\n",
    "        ys = np.array([augment_d(d) @ theta + noise * z for theta in thetas for z in zs])\n",
    "        for y in ys:\n",
    "            mean, A = get_posterior(d, y)\n",
    "            log_posterior = stable_multivariate_gaussian_logpdf(theta, mean, A @ A.T) # using posterior_distribution from last week\n",
    "            log_prior = stable_multivariate_gaussian_logpdf(theta, mean_prior, cov_prior)\n",
    "            results.append(log_posterior - log_prior)\n",
    "    return 1/(N * M) * np.sum(results)"
   ]
  },
  {
   "cell_type": "code",
   "execution_count": 9,
   "id": "10d315ae",
   "metadata": {},
   "outputs": [],
   "source": [
    "def KLD(mean_q, A_q, mean_p, A_p):\n",
    "        sigma_q = (A_q @ A_q.T)\n",
    "        sigma_p = (A_p @ A_p.T)\n",
    "        bar_sigma_q = np.linalg.norm(sigma_q)\n",
    "        bar_sigma_p = np.linalg.norm(sigma_p)\n",
    "        k = len(mean_q)\n",
    "        return 0.5 * (np.trace(np.linalg.inv(sigma_p) @ sigma_q) + (mean_p - mean_q).T @ np.linalg.inv(sigma_p) @ (mean_p - mean_q) - k + np.log(bar_sigma_p/bar_sigma_q))\n",
    "def KLD_opt(mean_q, A_q, mean_p, A_p):\n",
    "    # Compute Cholesky decomposition\n",
    "    L_p = np.linalg.cholesky(A_p @ A_p.T)\n",
    "    L_q = np.linalg.cholesky(A_q @ A_q.T)\n",
    "\n",
    "    # Compute trace term\n",
    "    trace_term = np.sum(np.log(np.diag(L_p))) - np.sum(np.log(np.diag(L_q)))\n",
    "\n",
    "    # Compute mean difference term\n",
    "    mean_diff = mean_p - mean_q\n",
    "    mean_diff_term = np.dot(np.linalg.solve(L_p.T, np.linalg.solve(L_p, mean_diff)), mean_diff)\n",
    "\n",
    "    # Compute bar_sigma_p and bar_sigma_q\n",
    "    bar_sigma_q = np.linalg.norm(L_q)\n",
    "    bar_sigma_p = np.linalg.norm(L_p)\n",
    "\n",
    "    k = len(mean_q)\n",
    "\n",
    "    return 0.5 * (trace_term + mean_diff_term - k + np.log(bar_sigma_p / bar_sigma_q))\n",
    "def log_likelihood_opt(y, theta, d):\n",
    "    d_offset = np.concatenate((d.T, np.ones((1, len(d)))), axis=0).T\n",
    "    likelihood_cov = np.mean(np.square(y - np.matmul(theta.T, d_offset.T)), axis=1)[:, np.newaxis, np.newaxis] * np.eye(len(d))[np.newaxis, ...]\n",
    "    likelihood_mean = np.matmul(theta.T, d_offset.T)\n",
    "    log_likelihoods = stable_multivariate_gaussian_logpdf(y, likelihood_mean, likelihood_cov)\n",
    "    return log_likelihoods\n",
    "def log_likelihood(y, theta, d):\n",
    "    #print(np.array([np.eye(len(d)) for _ in theta.T]).shape)\n",
    "    d_offset = np.concatenate((d.T, [np.ones(len(d))]), axis=0).T\n",
    "    #print(np.mean(np.square(y - theta.T @ d.T), axis=1))\n",
    "    #print(d)\n",
    "    likelihood_cov = np.mean(np.square(y - theta.T @ d_offset.T), axis=1)[:, np.newaxis, np.newaxis] * np.array([np.eye(len(d)) for _ in theta.T])\n",
    "    #print(likelihood_cov)\n",
    "    likelihood_mean = theta.T @ d_offset.T\n",
    "    return [stable_multivariate_gaussian_logpdf(y, mean, cov) for mean, cov in zip(likelihood_mean, likelihood_cov)]\n",
    "def elbo_optimized(q_params, d, y_i, shape=3, batch_size = 500):\n",
    "    #print(\"Computing elbo for \", q_params, d, y_i)\n",
    "    mean, A = q_params\n",
    "    #values = np.random.multivariate_normal(np.zeros(shape), np.eye(shape), size=batch_size)\n",
    "    #theta = mean + A @ values.T\n",
    "    sample_values = np.random.multivariate_normal(np.zeros(3), np.eye(3), size=batch_size)\n",
    "    theta = np.expand_dims(mean, axis=1) + A @ sample_values.T\n",
    "    lik = log_likelihood_opt(y_i, theta, d)\n",
    "    mean_term = (1/batch_size) * np.sum(lik)\n",
    "    kld_term = KLD(mean, A, mean_prior, A_prior)\n",
    "    #print(lik[0])\n",
    "    \n",
    "    return mean_term - kld_term"
   ]
  },
  {
   "cell_type": "code",
   "execution_count": 10,
   "id": "65d7595d",
   "metadata": {},
   "outputs": [],
   "source": [
    "def log_posterior(theta_i, q_params):\n",
    "    mean, A = q_params\n",
    "    return stable_multivariate_gaussian_logpdf(theta_i, mean, A @ A.T)\n",
    "def log_posterior_grad(theta_i, y_i, d, q_params):\n",
    "    batch_size=500\n",
    "    \n",
    "    def training_hessian_inner(q_params):\n",
    "        return elbo_optimized(decode_q_params(q_params), d, y_i, batch_size=batch_size)\n",
    "    \n",
    "    def training_mixed_partials_inner(encoded_q):\n",
    "        def deep_inner(d):\n",
    "            return elbo_optimized(\n",
    "                    decode_q_params(encoded_q), \n",
    "                    decode_d(d), \n",
    "                    y_i, \n",
    "                    batch_size=batch_size\n",
    "                )\n",
    "        #print(\"Encoded d %s\" % str(encode_d(d)))\n",
    "        #print(\"inner result: %s\" % str(encode_d(grad(lambda d: elbo(decode_q_params(encoded_q), d, y_i))(d))))\n",
    "        def decode_d_y(d_y):\n",
    "            size = d.shape[0] * d.shape[1]\n",
    "            return decode_d(d_y[0:size]), d_y[size:]\n",
    "        def encode_d_y(d, y):\n",
    "            return np.concatenate((encode_d(d), y_i))\n",
    "        return encode_d(\n",
    "            grad(\n",
    "                deep_inner\n",
    "            )(encode_d(d))\n",
    "        )\n",
    "    def training_mixed_partials_inner_2(encoded_d):\n",
    "        d = decode_d(encoded_d)\n",
    "        def deep_inner(encoded_q):\n",
    "            mean, A = decode_q_params(encoded_q)\n",
    "            return elbo_optimized((mean, A), d, y_i, batch_size=batch_size)\n",
    "        return grad(\n",
    "                deep_inner\n",
    "            )\n",
    "    \n",
    "    def inner_grad_q(encoded_q_params):\n",
    "        mean, A = decode_q_params(encoded_q_params)\n",
    "        return stable_multivariate_gaussian_logpdf(theta_i, mean, A @ A.T)\n",
    "    \n",
    "    \n",
    "    training_hessian = hessian(training_hessian_inner)\n",
    "    training_mixed_partials = jacobian(training_mixed_partials_inner)\n",
    "    encoded_q = encode_q_params(q_params)\n",
    "    latest_hessian = training_hessian(encoded_q) # 12 x 12\n",
    "    grad_log_q = grad(inner_grad_q)(encoded_q).reshape(1, len(encoded_q)) # 1 x 12\n",
    "    #alt_grad = -jacobian(lambda d: encode_q_params(get_posterior(decode_d(d), y_i)))(encode_d(d))\n",
    "    #alt_grad = -jacobian(lambda d: encode_q_params(get_posterior(decode_d(d), y_i)))(encode_d(d))\n",
    "    #return (grad_log_q @ alt_grad)[0]\n",
    "    #print(\"Alt grad: \", alt_grad)\n",
    "    for i in range(20):\n",
    "        if np.linalg.det(latest_hessian) != 0:\n",
    "            evaluated_partials = training_mixed_partials(encoded_q)\n",
    "            inv = np.linalg.inv(latest_hessian)\n",
    "            #print(\"New grad: \", (- inv @ evaluated_partials.T))\n",
    "            #return (grad_log_q @ alt_grad)[0]\n",
    "            return (grad_log_q @ (- inv @ evaluated_partials.T))[0]\n",
    "        latest_hessian = latest_hessian + 1e-8 * np.eye(latest_hessian.shape[0])\n",
    "    raise ValueError(\"Was not able to invert hessian\")\n",
    "def optimal_q(d, y_i, rate=0.1, decay=0.001, iters=100):\n",
    "    thetas = []\n",
    "    def objective_f(encoded_q):\n",
    "        q_params = decode_q_params(encoded_q)\n",
    "        return - elbo_optimized(q_params, d, y_i)\n",
    "    def callback(qi, g):\n",
    "        #print(\"Elbo: %f.05,\\t  grad: %f.05\" % (timer(lambda: -objective_f(qi), label=\"\\t ELBO\"), np.linalg.norm(g)))\n",
    "        return True\n",
    "        #print(\"\\t New ELBO iteration. mean=%s, A=%s\" % (str(mean), str(A)))\n",
    "    results = optimizer(\n",
    "        encode_q_params(\n",
    "            (mean_prior, A_prior)\n",
    "        ), \n",
    "        grad(objective_f), \n",
    "        callback=callback, \n",
    "        label=\"Optimizing for q\", \n",
    "        rate=rate,\n",
    "        iters=iters, \n",
    "        leave=False,\n",
    "        decay=decay\n",
    "    )\n",
    "    return decode_q_params(results)\n",
    "def MI_grad(d, N=50):\n",
    "    d_offset = augment_d(d)\n",
    "    size = d.shape[0]\n",
    "    theta_samples = np.random.multivariate_normal(mean_prior, A_prior @ A_prior, size=N)\n",
    "    sample_results = []\n",
    "    #elbos = []\n",
    "    optimal_qs = []\n",
    "    for i in tqdm(range(N), desc=\"Sampling over theta\", leave=False):\n",
    "        theta_i = theta_samples[i]\n",
    "        z_i = np.random.multivariate_normal(np.zeros(size), noise * np.eye(size))\n",
    "        def get_y_from_d(d):\n",
    "            d_offset = augment_d(d)\n",
    "            return theta_i @ d_offset.T + z_i\n",
    "        y_i = get_y_from_d(d)\n",
    "        q_params = get_posterior(d, y_i)\n",
    "        analytical_q = None\n",
    "        #data_sets.append((d, y_i, q_params, analytical_q))\n",
    "        #optimal_qs.append(q_params)\n",
    "        def log_posterior_grad_alt(theta_i, y_i, d, q_params):\n",
    "            return grad(\n",
    "              lambda xs_: -log_posterior(\n",
    "                  theta_i, \n",
    "                  get_posterior(decode_d(xs_), y_i)\n",
    "                  )\n",
    "              )(encode_d(d))\n",
    "        \n",
    "        result = log_posterior_grad_alt(q_params[0], y_i, d, q_params) * (log_posterior(theta_i, q_params) + 1)\n",
    "        #print(result, log_posterior_grad_alt(theta_i, y_i, d, q_params) * (log_posterior(theta_i, q_params) + 1))\n",
    "        #result = log_posterior_grad_alt(theta_i, y_i, d, q_params) * (log_posterior(theta_i, q_params) + 1)\n",
    "        #print(\"Got result!\")\n",
    "        sample_results.append(result)\n",
    "        #elbos.append(elbo(q_params, d, y_i))\n",
    "    #optimal_params.append(optimal_qs)\n",
    "    #print(\"ELBO: \", str(np.mean(elbos)))\n",
    "    #print(\"MI_grad: \", str(np.mean(sample_results)))\n",
    "    #print(sample_results)\n",
    "    #print(\"sample results, mean 0\", str(np.mean(np.array(sample_results), axis=0).shape))\n",
    "    #print(encode_d(decode_d(np.mean(np.array(sample_results), axis=0), dim=3)[:, 0:2]))\n",
    "    return decode_d(np.mean(np.array(sample_results), axis=0), dim=2)"
   ]
  },
  {
   "cell_type": "code",
   "execution_count": null,
   "id": "04678b62",
   "metadata": {},
   "outputs": [],
   "source": []
  },
  {
   "cell_type": "code",
   "execution_count": 11,
   "id": "48ee4421",
   "metadata": {},
   "outputs": [],
   "source": [
    "def optimizer(x0, gradient, callback=lambda x, g: True, rate=1, decay=0.5, iters=1e1, label=None, leave=True, thres=0.1):\n",
    "    x = x0\n",
    "    for i in tqdm(range(int(iters)), desc=label, leave=leave):\n",
    "        r = rate * 1/(10+i*decay)\n",
    "        g = gradient(x)\n",
    "        x = -g * r + x\n",
    "        #if i > 0 and np.linalg.norm(g) < thres or np.linalg.norm(g) > 10:\n",
    "        #    break\n",
    "        if i % 1 == 0:\n",
    "            if not callback(x, g):\n",
    "                break\n",
    "    return x"
   ]
  },
  {
   "cell_type": "code",
   "execution_count": 17,
   "id": "1a61969a",
   "metadata": {},
   "outputs": [
    {
     "data": {
      "application/vnd.jupyter.widget-view+json": {
       "model_id": "d09ddc25ace84b809d7a4328309231ae",
       "version_major": 2,
       "version_minor": 0
      },
      "text/plain": [
       "  0%|          | 0/100000 [00:00<?, ?it/s]"
      ]
     },
     "metadata": {},
     "output_type": "display_data"
    },
    {
     "ename": "KeyboardInterrupt",
     "evalue": "",
     "output_type": "error",
     "traceback": [
      "\u001b[0;31m---------------------------------------------------------------------------\u001b[0m",
      "\u001b[0;31mKeyboardInterrupt\u001b[0m                         Traceback (most recent call last)",
      "Cell \u001b[0;32mIn[17], line 14\u001b[0m\n\u001b[1;32m     12\u001b[0m dis\u001b[38;5;241m.\u001b[39mappend(d0)\n\u001b[1;32m     13\u001b[0m mis\u001b[38;5;241m.\u001b[39mappend(MI(d0, N\u001b[38;5;241m=\u001b[39m\u001b[38;5;241m30\u001b[39m))\n\u001b[0;32m---> 14\u001b[0m \u001b[43moptimizer\u001b[49m\u001b[43m(\u001b[49m\u001b[43mencode_d\u001b[49m\u001b[43m(\u001b[49m\u001b[43md0\u001b[49m\u001b[43m)\u001b[49m\u001b[43m,\u001b[49m\u001b[43m \u001b[49m\u001b[43mgrad\u001b[49m\u001b[43m(\u001b[49m\u001b[43mg\u001b[49m\u001b[43m)\u001b[49m\u001b[43m,\u001b[49m\u001b[43m \u001b[49m\u001b[43mrate\u001b[49m\u001b[38;5;241;43m=\u001b[39;49m\u001b[38;5;241;43m1\u001b[39;49m\u001b[43m,\u001b[49m\u001b[43m \u001b[49m\u001b[43mdecay\u001b[49m\u001b[38;5;241;43m=\u001b[39;49m\u001b[38;5;241;43m0.0001\u001b[39;49m\u001b[43m,\u001b[49m\u001b[43m \u001b[49m\u001b[43miters\u001b[49m\u001b[38;5;241;43m=\u001b[39;49m\u001b[38;5;241;43m100000\u001b[39;49m\u001b[43m,\u001b[49m\u001b[43m \u001b[49m\u001b[43mcallback\u001b[49m\u001b[38;5;241;43m=\u001b[39;49m\u001b[43mcallback\u001b[49m\u001b[43m)\u001b[49m\n\u001b[1;32m     15\u001b[0m dis \u001b[38;5;241m=\u001b[39m np\u001b[38;5;241m.\u001b[39marray(dis)\n",
      "Cell \u001b[0;32mIn[11], line 5\u001b[0m, in \u001b[0;36moptimizer\u001b[0;34m(x0, gradient, callback, rate, decay, iters, label, leave, thres)\u001b[0m\n\u001b[1;32m      3\u001b[0m \u001b[38;5;28;01mfor\u001b[39;00m i \u001b[38;5;129;01min\u001b[39;00m tqdm(\u001b[38;5;28mrange\u001b[39m(\u001b[38;5;28mint\u001b[39m(iters)), desc\u001b[38;5;241m=\u001b[39mlabel, leave\u001b[38;5;241m=\u001b[39mleave):\n\u001b[1;32m      4\u001b[0m     r \u001b[38;5;241m=\u001b[39m rate \u001b[38;5;241m*\u001b[39m \u001b[38;5;241m1\u001b[39m\u001b[38;5;241m/\u001b[39m(\u001b[38;5;241m10\u001b[39m\u001b[38;5;241m+\u001b[39mi\u001b[38;5;241m*\u001b[39mdecay)\n\u001b[0;32m----> 5\u001b[0m     g \u001b[38;5;241m=\u001b[39m \u001b[43mgradient\u001b[49m\u001b[43m(\u001b[49m\u001b[43mx\u001b[49m\u001b[43m)\u001b[49m\n\u001b[1;32m      6\u001b[0m     x \u001b[38;5;241m=\u001b[39m \u001b[38;5;241m-\u001b[39mg \u001b[38;5;241m*\u001b[39m r \u001b[38;5;241m+\u001b[39m x\n\u001b[1;32m      7\u001b[0m     \u001b[38;5;66;03m#if i > 0 and np.linalg.norm(g) < thres or np.linalg.norm(g) > 10:\u001b[39;00m\n\u001b[1;32m      8\u001b[0m     \u001b[38;5;66;03m#    break\u001b[39;00m\n",
      "File \u001b[0;32m~/Programs/assignments/pocs/python/venv/lib/python3.10/site-packages/autograd/wrap_util.py:20\u001b[0m, in \u001b[0;36munary_to_nary.<locals>.nary_operator.<locals>.nary_f\u001b[0;34m(*args, **kwargs)\u001b[0m\n\u001b[1;32m     18\u001b[0m \u001b[38;5;28;01melse\u001b[39;00m:\n\u001b[1;32m     19\u001b[0m     x \u001b[38;5;241m=\u001b[39m \u001b[38;5;28mtuple\u001b[39m(args[i] \u001b[38;5;28;01mfor\u001b[39;00m i \u001b[38;5;129;01min\u001b[39;00m argnum)\n\u001b[0;32m---> 20\u001b[0m \u001b[38;5;28;01mreturn\u001b[39;00m \u001b[43munary_operator\u001b[49m\u001b[43m(\u001b[49m\u001b[43munary_f\u001b[49m\u001b[43m,\u001b[49m\u001b[43m \u001b[49m\u001b[43mx\u001b[49m\u001b[43m,\u001b[49m\u001b[43m \u001b[49m\u001b[38;5;241;43m*\u001b[39;49m\u001b[43mnary_op_args\u001b[49m\u001b[43m,\u001b[49m\u001b[43m \u001b[49m\u001b[38;5;241;43m*\u001b[39;49m\u001b[38;5;241;43m*\u001b[39;49m\u001b[43mnary_op_kwargs\u001b[49m\u001b[43m)\u001b[49m\n",
      "File \u001b[0;32m~/Programs/assignments/pocs/python/venv/lib/python3.10/site-packages/autograd/differential_operators.py:28\u001b[0m, in \u001b[0;36mgrad\u001b[0;34m(fun, x)\u001b[0m\n\u001b[1;32m     21\u001b[0m \u001b[38;5;129m@unary_to_nary\u001b[39m\n\u001b[1;32m     22\u001b[0m \u001b[38;5;28;01mdef\u001b[39;00m \u001b[38;5;21mgrad\u001b[39m(fun, x):\n\u001b[1;32m     23\u001b[0m \u001b[38;5;250m    \u001b[39m\u001b[38;5;124;03m\"\"\"\u001b[39;00m\n\u001b[1;32m     24\u001b[0m \u001b[38;5;124;03m    Returns a function which computes the gradient of `fun` with respect to\u001b[39;00m\n\u001b[1;32m     25\u001b[0m \u001b[38;5;124;03m    positional argument number `argnum`. The returned function takes the same\u001b[39;00m\n\u001b[1;32m     26\u001b[0m \u001b[38;5;124;03m    arguments as `fun`, but returns the gradient instead. The function `fun`\u001b[39;00m\n\u001b[1;32m     27\u001b[0m \u001b[38;5;124;03m    should be scalar-valued. The gradient has the same type as the argument.\"\"\"\u001b[39;00m\n\u001b[0;32m---> 28\u001b[0m     vjp, ans \u001b[38;5;241m=\u001b[39m \u001b[43m_make_vjp\u001b[49m\u001b[43m(\u001b[49m\u001b[43mfun\u001b[49m\u001b[43m,\u001b[49m\u001b[43m \u001b[49m\u001b[43mx\u001b[49m\u001b[43m)\u001b[49m\n\u001b[1;32m     29\u001b[0m     \u001b[38;5;28;01mif\u001b[39;00m \u001b[38;5;129;01mnot\u001b[39;00m vspace(ans)\u001b[38;5;241m.\u001b[39msize \u001b[38;5;241m==\u001b[39m \u001b[38;5;241m1\u001b[39m:\n\u001b[1;32m     30\u001b[0m         \u001b[38;5;28;01mraise\u001b[39;00m \u001b[38;5;167;01mTypeError\u001b[39;00m(\u001b[38;5;124m\"\u001b[39m\u001b[38;5;124mGrad only applies to real scalar-output functions. \u001b[39m\u001b[38;5;124m\"\u001b[39m\n\u001b[1;32m     31\u001b[0m                         \u001b[38;5;124m\"\u001b[39m\u001b[38;5;124mTry jacobian, elementwise_grad or holomorphic_grad.\u001b[39m\u001b[38;5;124m\"\u001b[39m)\n",
      "File \u001b[0;32m~/Programs/assignments/pocs/python/venv/lib/python3.10/site-packages/autograd/core.py:10\u001b[0m, in \u001b[0;36mmake_vjp\u001b[0;34m(fun, x)\u001b[0m\n\u001b[1;32m      8\u001b[0m \u001b[38;5;28;01mdef\u001b[39;00m \u001b[38;5;21mmake_vjp\u001b[39m(fun, x):\n\u001b[1;32m      9\u001b[0m     start_node \u001b[38;5;241m=\u001b[39m VJPNode\u001b[38;5;241m.\u001b[39mnew_root()\n\u001b[0;32m---> 10\u001b[0m     end_value, end_node \u001b[38;5;241m=\u001b[39m  \u001b[43mtrace\u001b[49m\u001b[43m(\u001b[49m\u001b[43mstart_node\u001b[49m\u001b[43m,\u001b[49m\u001b[43m \u001b[49m\u001b[43mfun\u001b[49m\u001b[43m,\u001b[49m\u001b[43m \u001b[49m\u001b[43mx\u001b[49m\u001b[43m)\u001b[49m\n\u001b[1;32m     11\u001b[0m     \u001b[38;5;28;01mif\u001b[39;00m end_node \u001b[38;5;129;01mis\u001b[39;00m \u001b[38;5;28;01mNone\u001b[39;00m:\n\u001b[1;32m     12\u001b[0m         \u001b[38;5;28;01mdef\u001b[39;00m \u001b[38;5;21mvjp\u001b[39m(g): \u001b[38;5;28;01mreturn\u001b[39;00m vspace(x)\u001b[38;5;241m.\u001b[39mzeros()\n",
      "File \u001b[0;32m~/Programs/assignments/pocs/python/venv/lib/python3.10/site-packages/autograd/tracer.py:10\u001b[0m, in \u001b[0;36mtrace\u001b[0;34m(start_node, fun, x)\u001b[0m\n\u001b[1;32m      8\u001b[0m \u001b[38;5;28;01mwith\u001b[39;00m trace_stack\u001b[38;5;241m.\u001b[39mnew_trace() \u001b[38;5;28;01mas\u001b[39;00m t:\n\u001b[1;32m      9\u001b[0m     start_box \u001b[38;5;241m=\u001b[39m new_box(x, t, start_node)\n\u001b[0;32m---> 10\u001b[0m     end_box \u001b[38;5;241m=\u001b[39m \u001b[43mfun\u001b[49m\u001b[43m(\u001b[49m\u001b[43mstart_box\u001b[49m\u001b[43m)\u001b[49m\n\u001b[1;32m     11\u001b[0m     \u001b[38;5;28;01mif\u001b[39;00m isbox(end_box) \u001b[38;5;129;01mand\u001b[39;00m end_box\u001b[38;5;241m.\u001b[39m_trace \u001b[38;5;241m==\u001b[39m start_box\u001b[38;5;241m.\u001b[39m_trace:\n\u001b[1;32m     12\u001b[0m         \u001b[38;5;28;01mreturn\u001b[39;00m end_box\u001b[38;5;241m.\u001b[39m_value, end_box\u001b[38;5;241m.\u001b[39m_node\n",
      "File \u001b[0;32m~/Programs/assignments/pocs/python/venv/lib/python3.10/site-packages/autograd/wrap_util.py:15\u001b[0m, in \u001b[0;36munary_to_nary.<locals>.nary_operator.<locals>.nary_f.<locals>.unary_f\u001b[0;34m(x)\u001b[0m\n\u001b[1;32m     13\u001b[0m \u001b[38;5;28;01melse\u001b[39;00m:\n\u001b[1;32m     14\u001b[0m     subargs \u001b[38;5;241m=\u001b[39m subvals(args, \u001b[38;5;28mzip\u001b[39m(argnum, x))\n\u001b[0;32m---> 15\u001b[0m \u001b[38;5;28;01mreturn\u001b[39;00m \u001b[43mfun\u001b[49m\u001b[43m(\u001b[49m\u001b[38;5;241;43m*\u001b[39;49m\u001b[43msubargs\u001b[49m\u001b[43m,\u001b[49m\u001b[43m \u001b[49m\u001b[38;5;241;43m*\u001b[39;49m\u001b[38;5;241;43m*\u001b[39;49m\u001b[43mkwargs\u001b[49m\u001b[43m)\u001b[49m\n",
      "Cell \u001b[0;32mIn[17], line 9\u001b[0m, in \u001b[0;36mg\u001b[0;34m(encoded_d)\u001b[0m\n\u001b[1;32m      7\u001b[0m d \u001b[38;5;241m=\u001b[39m decode_d(encoded_d)\n\u001b[1;32m      8\u001b[0m \u001b[38;5;66;03m#g_ = grad(lambda d: MI(d, N=50))(d)\u001b[39;00m\n\u001b[0;32m----> 9\u001b[0m g_ \u001b[38;5;241m=\u001b[39m \u001b[43mMI\u001b[49m\u001b[43m(\u001b[49m\u001b[43md\u001b[49m\u001b[43m,\u001b[49m\u001b[43m \u001b[49m\u001b[43mN\u001b[49m\u001b[38;5;241;43m=\u001b[39;49m\u001b[38;5;241;43m100\u001b[39;49m\u001b[43m)\u001b[49m\n\u001b[1;32m     10\u001b[0m mis\u001b[38;5;241m.\u001b[39mappend(g_)\n\u001b[1;32m     11\u001b[0m \u001b[38;5;28;01mreturn\u001b[39;00m \u001b[38;5;241m-\u001b[39mencode_d(g_)\n",
      "Cell \u001b[0;32mIn[7], line 7\u001b[0m, in \u001b[0;36mMI\u001b[0;34m(d, N)\u001b[0m\n\u001b[1;32m      5\u001b[0m mean, A \u001b[38;5;241m=\u001b[39m get_posteriors(d, y)\n\u001b[1;32m      6\u001b[0m \u001b[38;5;66;03m#print(mean.T)\u001b[39;00m\n\u001b[0;32m----> 7\u001b[0m results \u001b[38;5;241m=\u001b[39m [stable_multivariate_gaussian_logpdf(theta_i, mean_i, A \u001b[38;5;241m@\u001b[39m A\u001b[38;5;241m.\u001b[39mT) \u001b[38;5;28;01mfor\u001b[39;00m theta_i, mean_i \u001b[38;5;129;01min\u001b[39;00m \u001b[38;5;28mzip\u001b[39m(thetas, mean\u001b[38;5;241m.\u001b[39mT)]\n\u001b[1;32m      8\u001b[0m \u001b[38;5;28;01mreturn\u001b[39;00m \u001b[38;5;241m1\u001b[39m\u001b[38;5;241m/\u001b[39mN \u001b[38;5;241m*\u001b[39m np\u001b[38;5;241m.\u001b[39msum(results) \u001b[38;5;241m-\u001b[39m \u001b[38;5;241m0.5\u001b[39m \u001b[38;5;241m*\u001b[39m np\u001b[38;5;241m.\u001b[39mlog(np\u001b[38;5;241m.\u001b[39mlinalg\u001b[38;5;241m.\u001b[39mdet(\u001b[38;5;241m2\u001b[39m \u001b[38;5;241m*\u001b[39m np\u001b[38;5;241m.\u001b[39mpi \u001b[38;5;241m*\u001b[39m np\u001b[38;5;241m.\u001b[39me \u001b[38;5;241m*\u001b[39m (A_prior \u001b[38;5;241m@\u001b[39m A_prior\u001b[38;5;241m.\u001b[39mT)))\n",
      "Cell \u001b[0;32mIn[7], line 7\u001b[0m, in \u001b[0;36m<listcomp>\u001b[0;34m(.0)\u001b[0m\n\u001b[1;32m      5\u001b[0m mean, A \u001b[38;5;241m=\u001b[39m get_posteriors(d, y)\n\u001b[1;32m      6\u001b[0m \u001b[38;5;66;03m#print(mean.T)\u001b[39;00m\n\u001b[0;32m----> 7\u001b[0m results \u001b[38;5;241m=\u001b[39m [\u001b[43mstable_multivariate_gaussian_logpdf\u001b[49m\u001b[43m(\u001b[49m\u001b[43mtheta_i\u001b[49m\u001b[43m,\u001b[49m\u001b[43m \u001b[49m\u001b[43mmean_i\u001b[49m\u001b[43m,\u001b[49m\u001b[43m \u001b[49m\u001b[43mA\u001b[49m\u001b[43m \u001b[49m\u001b[38;5;241;43m@\u001b[39;49m\u001b[43m \u001b[49m\u001b[43mA\u001b[49m\u001b[38;5;241;43m.\u001b[39;49m\u001b[43mT\u001b[49m\u001b[43m)\u001b[49m \u001b[38;5;28;01mfor\u001b[39;00m theta_i, mean_i \u001b[38;5;129;01min\u001b[39;00m \u001b[38;5;28mzip\u001b[39m(thetas, mean\u001b[38;5;241m.\u001b[39mT)]\n\u001b[1;32m      8\u001b[0m \u001b[38;5;28;01mreturn\u001b[39;00m \u001b[38;5;241m1\u001b[39m\u001b[38;5;241m/\u001b[39mN \u001b[38;5;241m*\u001b[39m np\u001b[38;5;241m.\u001b[39msum(results) \u001b[38;5;241m-\u001b[39m \u001b[38;5;241m0.5\u001b[39m \u001b[38;5;241m*\u001b[39m np\u001b[38;5;241m.\u001b[39mlog(np\u001b[38;5;241m.\u001b[39mlinalg\u001b[38;5;241m.\u001b[39mdet(\u001b[38;5;241m2\u001b[39m \u001b[38;5;241m*\u001b[39m np\u001b[38;5;241m.\u001b[39mpi \u001b[38;5;241m*\u001b[39m np\u001b[38;5;241m.\u001b[39me \u001b[38;5;241m*\u001b[39m (A_prior \u001b[38;5;241m@\u001b[39m A_prior\u001b[38;5;241m.\u001b[39mT)))\n",
      "Cell \u001b[0;32mIn[3], line 5\u001b[0m, in \u001b[0;36mstable_multivariate_gaussian_logpdf\u001b[0;34m(x, mu, cov)\u001b[0m\n\u001b[1;32m      3\u001b[0m x_mu \u001b[38;5;241m=\u001b[39m x \u001b[38;5;241m-\u001b[39m mu\n\u001b[1;32m      4\u001b[0m \u001b[38;5;28;01mtry\u001b[39;00m:\n\u001b[0;32m----> 5\u001b[0m     _, log_det \u001b[38;5;241m=\u001b[39m np\u001b[38;5;241m.\u001b[39mlinalg\u001b[38;5;241m.\u001b[39mslogdet(cov)\n\u001b[1;32m      6\u001b[0m     cov_inv \u001b[38;5;241m=\u001b[39m np\u001b[38;5;241m.\u001b[39mlinalg\u001b[38;5;241m.\u001b[39minv(cov)\n\u001b[1;32m      7\u001b[0m     prod \u001b[38;5;241m=\u001b[39m np\u001b[38;5;241m.\u001b[39meinsum(\u001b[38;5;124m'\u001b[39m\u001b[38;5;124m...i, ...ij, ...j->...\u001b[39m\u001b[38;5;124m'\u001b[39m, x_mu, cov_inv, x_mu) \u001b[38;5;66;03m# todo: find a way to make this understandable\u001b[39;00m\n",
      "File \u001b[0;32m~/Programs/assignments/pocs/python/venv/lib/python3.10/site-packages/autograd/tracer.py:45\u001b[0m, in \u001b[0;36mprimitive.<locals>.f_wrapped\u001b[0;34m(*args, **kwargs)\u001b[0m\n\u001b[1;32m     43\u001b[0m     argnums \u001b[38;5;241m=\u001b[39m \u001b[38;5;28mtuple\u001b[39m(argnum    \u001b[38;5;28;01mfor\u001b[39;00m argnum, _   \u001b[38;5;129;01min\u001b[39;00m boxed_args)\n\u001b[1;32m     44\u001b[0m     ans \u001b[38;5;241m=\u001b[39m f_wrapped(\u001b[38;5;241m*\u001b[39margvals, \u001b[38;5;241m*\u001b[39m\u001b[38;5;241m*\u001b[39mkwargs)\n\u001b[0;32m---> 45\u001b[0m     node \u001b[38;5;241m=\u001b[39m \u001b[43mnode_constructor\u001b[49m\u001b[43m(\u001b[49m\u001b[43mans\u001b[49m\u001b[43m,\u001b[49m\u001b[43m \u001b[49m\u001b[43mf_wrapped\u001b[49m\u001b[43m,\u001b[49m\u001b[43m \u001b[49m\u001b[43margvals\u001b[49m\u001b[43m,\u001b[49m\u001b[43m \u001b[49m\u001b[43mkwargs\u001b[49m\u001b[43m,\u001b[49m\u001b[43m \u001b[49m\u001b[43margnums\u001b[49m\u001b[43m,\u001b[49m\u001b[43m \u001b[49m\u001b[43mparents\u001b[49m\u001b[43m)\u001b[49m\n\u001b[1;32m     46\u001b[0m     \u001b[38;5;28;01mreturn\u001b[39;00m new_box(ans, trace, node)\n\u001b[1;32m     47\u001b[0m \u001b[38;5;28;01melse\u001b[39;00m:\n",
      "File \u001b[0;32m~/Programs/assignments/pocs/python/venv/lib/python3.10/site-packages/autograd/core.py:36\u001b[0m, in \u001b[0;36mVJPNode.__init__\u001b[0;34m(self, value, fun, args, kwargs, parent_argnums, parents)\u001b[0m\n\u001b[1;32m     33\u001b[0m     fun_name \u001b[38;5;241m=\u001b[39m \u001b[38;5;28mgetattr\u001b[39m(fun, \u001b[38;5;124m'\u001b[39m\u001b[38;5;124m__name__\u001b[39m\u001b[38;5;124m'\u001b[39m, fun)\n\u001b[1;32m     34\u001b[0m     \u001b[38;5;28;01mraise\u001b[39;00m \u001b[38;5;167;01mNotImplementedError\u001b[39;00m(\u001b[38;5;124m\"\u001b[39m\u001b[38;5;124mVJP of \u001b[39m\u001b[38;5;132;01m{}\u001b[39;00m\u001b[38;5;124m wrt argnums \u001b[39m\u001b[38;5;132;01m{}\u001b[39;00m\u001b[38;5;124m not defined\u001b[39m\u001b[38;5;124m\"\u001b[39m\n\u001b[1;32m     35\u001b[0m                               \u001b[38;5;241m.\u001b[39mformat(fun_name, parent_argnums))\n\u001b[0;32m---> 36\u001b[0m \u001b[38;5;28mself\u001b[39m\u001b[38;5;241m.\u001b[39mvjp \u001b[38;5;241m=\u001b[39m \u001b[43mvjpmaker\u001b[49m\u001b[43m(\u001b[49m\u001b[43mparent_argnums\u001b[49m\u001b[43m,\u001b[49m\u001b[43m \u001b[49m\u001b[43mvalue\u001b[49m\u001b[43m,\u001b[49m\u001b[43m \u001b[49m\u001b[43margs\u001b[49m\u001b[43m,\u001b[49m\u001b[43m \u001b[49m\u001b[43mkwargs\u001b[49m\u001b[43m)\u001b[49m\n",
      "\u001b[0;31mKeyboardInterrupt\u001b[0m: "
     ]
    }
   ],
   "source": [
    "dis = []\n",
    "mis = []\n",
    "def callback(di, g):\n",
    "    dis.append(decode_d(di))\n",
    "    return True\n",
    "def g(encoded_d):\n",
    "    d = decode_d(encoded_d)\n",
    "    #g_ = grad(lambda d: MI(d, N=50))(d)\n",
    "    g_ = MI(d, N=100)\n",
    "    mis.append(g_)\n",
    "    return -encode_d(g_)\n",
    "dis.append(d0)\n",
    "mis.append(MI(d0, N=30))\n",
    "optimizer(encode_d(d0), grad(g), rate=1, decay=0.0001, iters=100000, callback=callback)\n",
    "dis = np.array(dis)"
   ]
  },
  {
   "cell_type": "code",
   "execution_count": null,
   "id": "94857401",
   "metadata": {},
   "outputs": [],
   "source": [
    "mis"
   ]
  },
  {
   "cell_type": "code",
   "execution_count": 14,
   "id": "dd089a05",
   "metadata": {},
   "outputs": [
    {
     "ename": "ValueError",
     "evalue": "setting an array element with a sequence.",
     "output_type": "error",
     "traceback": [
      "\u001b[0;31m---------------------------------------------------------------------------\u001b[0m",
      "\u001b[0;31mTypeError\u001b[0m                                 Traceback (most recent call last)",
      "\u001b[0;31mTypeError\u001b[0m: float() argument must be a string or a real number, not 'ArrayBox'",
      "\nThe above exception was the direct cause of the following exception:\n",
      "\u001b[0;31mValueError\u001b[0m                                Traceback (most recent call last)",
      "Cell \u001b[0;32mIn[14], line 1\u001b[0m\n\u001b[0;32m----> 1\u001b[0m \u001b[43mplt\u001b[49m\u001b[38;5;241;43m.\u001b[39;49m\u001b[43mplot\u001b[49m\u001b[43m(\u001b[49m\u001b[43mnp\u001b[49m\u001b[38;5;241;43m.\u001b[39;49m\u001b[43marange\u001b[49m\u001b[43m(\u001b[49m\u001b[38;5;241;43m0\u001b[39;49m\u001b[43m,\u001b[49m\u001b[43m \u001b[49m\u001b[38;5;28;43mlen\u001b[39;49m\u001b[43m(\u001b[49m\u001b[43mmis\u001b[49m\u001b[43m)\u001b[49m\u001b[43m)\u001b[49m\u001b[43m,\u001b[49m\u001b[43m \u001b[49m\u001b[43mmis\u001b[49m\u001b[43m)\u001b[49m\n\u001b[1;32m      2\u001b[0m \u001b[38;5;66;03m#plt.yscale('log')\u001b[39;00m\n\u001b[1;32m      3\u001b[0m plt\u001b[38;5;241m.\u001b[39mtitle(\u001b[38;5;124m\"\u001b[39m\u001b[38;5;124mMutual information\u001b[39m\u001b[38;5;124m\"\u001b[39m)\n",
      "File \u001b[0;32m~/Programs/assignments/pocs/python/venv/lib/python3.10/site-packages/matplotlib/pyplot.py:2812\u001b[0m, in \u001b[0;36mplot\u001b[0;34m(scalex, scaley, data, *args, **kwargs)\u001b[0m\n\u001b[1;32m   2810\u001b[0m \u001b[38;5;129m@_copy_docstring_and_deprecators\u001b[39m(Axes\u001b[38;5;241m.\u001b[39mplot)\n\u001b[1;32m   2811\u001b[0m \u001b[38;5;28;01mdef\u001b[39;00m \u001b[38;5;21mplot\u001b[39m(\u001b[38;5;241m*\u001b[39margs, scalex\u001b[38;5;241m=\u001b[39m\u001b[38;5;28;01mTrue\u001b[39;00m, scaley\u001b[38;5;241m=\u001b[39m\u001b[38;5;28;01mTrue\u001b[39;00m, data\u001b[38;5;241m=\u001b[39m\u001b[38;5;28;01mNone\u001b[39;00m, \u001b[38;5;241m*\u001b[39m\u001b[38;5;241m*\u001b[39mkwargs):\n\u001b[0;32m-> 2812\u001b[0m     \u001b[38;5;28;01mreturn\u001b[39;00m \u001b[43mgca\u001b[49m\u001b[43m(\u001b[49m\u001b[43m)\u001b[49m\u001b[38;5;241;43m.\u001b[39;49m\u001b[43mplot\u001b[49m\u001b[43m(\u001b[49m\n\u001b[1;32m   2813\u001b[0m \u001b[43m        \u001b[49m\u001b[38;5;241;43m*\u001b[39;49m\u001b[43margs\u001b[49m\u001b[43m,\u001b[49m\u001b[43m \u001b[49m\u001b[43mscalex\u001b[49m\u001b[38;5;241;43m=\u001b[39;49m\u001b[43mscalex\u001b[49m\u001b[43m,\u001b[49m\u001b[43m \u001b[49m\u001b[43mscaley\u001b[49m\u001b[38;5;241;43m=\u001b[39;49m\u001b[43mscaley\u001b[49m\u001b[43m,\u001b[49m\n\u001b[1;32m   2814\u001b[0m \u001b[43m        \u001b[49m\u001b[38;5;241;43m*\u001b[39;49m\u001b[38;5;241;43m*\u001b[39;49m\u001b[43m(\u001b[49m\u001b[43m{\u001b[49m\u001b[38;5;124;43m\"\u001b[39;49m\u001b[38;5;124;43mdata\u001b[39;49m\u001b[38;5;124;43m\"\u001b[39;49m\u001b[43m:\u001b[49m\u001b[43m \u001b[49m\u001b[43mdata\u001b[49m\u001b[43m}\u001b[49m\u001b[43m \u001b[49m\u001b[38;5;28;43;01mif\u001b[39;49;00m\u001b[43m \u001b[49m\u001b[43mdata\u001b[49m\u001b[43m \u001b[49m\u001b[38;5;129;43;01mis\u001b[39;49;00m\u001b[43m \u001b[49m\u001b[38;5;129;43;01mnot\u001b[39;49;00m\u001b[43m \u001b[49m\u001b[38;5;28;43;01mNone\u001b[39;49;00m\u001b[43m \u001b[49m\u001b[38;5;28;43;01melse\u001b[39;49;00m\u001b[43m \u001b[49m\u001b[43m{\u001b[49m\u001b[43m}\u001b[49m\u001b[43m)\u001b[49m\u001b[43m,\u001b[49m\u001b[43m \u001b[49m\u001b[38;5;241;43m*\u001b[39;49m\u001b[38;5;241;43m*\u001b[39;49m\u001b[43mkwargs\u001b[49m\u001b[43m)\u001b[49m\n",
      "File \u001b[0;32m~/Programs/assignments/pocs/python/venv/lib/python3.10/site-packages/matplotlib/axes/_axes.py:1690\u001b[0m, in \u001b[0;36mAxes.plot\u001b[0;34m(self, scalex, scaley, data, *args, **kwargs)\u001b[0m\n\u001b[1;32m   1688\u001b[0m lines \u001b[38;5;241m=\u001b[39m [\u001b[38;5;241m*\u001b[39m\u001b[38;5;28mself\u001b[39m\u001b[38;5;241m.\u001b[39m_get_lines(\u001b[38;5;241m*\u001b[39margs, data\u001b[38;5;241m=\u001b[39mdata, \u001b[38;5;241m*\u001b[39m\u001b[38;5;241m*\u001b[39mkwargs)]\n\u001b[1;32m   1689\u001b[0m \u001b[38;5;28;01mfor\u001b[39;00m line \u001b[38;5;129;01min\u001b[39;00m lines:\n\u001b[0;32m-> 1690\u001b[0m     \u001b[38;5;28;43mself\u001b[39;49m\u001b[38;5;241;43m.\u001b[39;49m\u001b[43madd_line\u001b[49m\u001b[43m(\u001b[49m\u001b[43mline\u001b[49m\u001b[43m)\u001b[49m\n\u001b[1;32m   1691\u001b[0m \u001b[38;5;28;01mif\u001b[39;00m scalex:\n\u001b[1;32m   1692\u001b[0m     \u001b[38;5;28mself\u001b[39m\u001b[38;5;241m.\u001b[39m_request_autoscale_view(\u001b[38;5;124m\"\u001b[39m\u001b[38;5;124mx\u001b[39m\u001b[38;5;124m\"\u001b[39m)\n",
      "File \u001b[0;32m~/Programs/assignments/pocs/python/venv/lib/python3.10/site-packages/matplotlib/axes/_base.py:2304\u001b[0m, in \u001b[0;36m_AxesBase.add_line\u001b[0;34m(self, line)\u001b[0m\n\u001b[1;32m   2301\u001b[0m \u001b[38;5;28;01mif\u001b[39;00m line\u001b[38;5;241m.\u001b[39mget_clip_path() \u001b[38;5;129;01mis\u001b[39;00m \u001b[38;5;28;01mNone\u001b[39;00m:\n\u001b[1;32m   2302\u001b[0m     line\u001b[38;5;241m.\u001b[39mset_clip_path(\u001b[38;5;28mself\u001b[39m\u001b[38;5;241m.\u001b[39mpatch)\n\u001b[0;32m-> 2304\u001b[0m \u001b[38;5;28;43mself\u001b[39;49m\u001b[38;5;241;43m.\u001b[39;49m\u001b[43m_update_line_limits\u001b[49m\u001b[43m(\u001b[49m\u001b[43mline\u001b[49m\u001b[43m)\u001b[49m\n\u001b[1;32m   2305\u001b[0m \u001b[38;5;28;01mif\u001b[39;00m \u001b[38;5;129;01mnot\u001b[39;00m line\u001b[38;5;241m.\u001b[39mget_label():\n\u001b[1;32m   2306\u001b[0m     line\u001b[38;5;241m.\u001b[39mset_label(\u001b[38;5;124mf\u001b[39m\u001b[38;5;124m'\u001b[39m\u001b[38;5;124m_child\u001b[39m\u001b[38;5;132;01m{\u001b[39;00m\u001b[38;5;28mlen\u001b[39m(\u001b[38;5;28mself\u001b[39m\u001b[38;5;241m.\u001b[39m_children)\u001b[38;5;132;01m}\u001b[39;00m\u001b[38;5;124m'\u001b[39m)\n",
      "File \u001b[0;32m~/Programs/assignments/pocs/python/venv/lib/python3.10/site-packages/matplotlib/axes/_base.py:2327\u001b[0m, in \u001b[0;36m_AxesBase._update_line_limits\u001b[0;34m(self, line)\u001b[0m\n\u001b[1;32m   2323\u001b[0m \u001b[38;5;28;01mdef\u001b[39;00m \u001b[38;5;21m_update_line_limits\u001b[39m(\u001b[38;5;28mself\u001b[39m, line):\n\u001b[1;32m   2324\u001b[0m \u001b[38;5;250m    \u001b[39m\u001b[38;5;124;03m\"\"\"\u001b[39;00m\n\u001b[1;32m   2325\u001b[0m \u001b[38;5;124;03m    Figures out the data limit of the given line, updating self.dataLim.\u001b[39;00m\n\u001b[1;32m   2326\u001b[0m \u001b[38;5;124;03m    \"\"\"\u001b[39;00m\n\u001b[0;32m-> 2327\u001b[0m     path \u001b[38;5;241m=\u001b[39m \u001b[43mline\u001b[49m\u001b[38;5;241;43m.\u001b[39;49m\u001b[43mget_path\u001b[49m\u001b[43m(\u001b[49m\u001b[43m)\u001b[49m\n\u001b[1;32m   2328\u001b[0m     \u001b[38;5;28;01mif\u001b[39;00m path\u001b[38;5;241m.\u001b[39mvertices\u001b[38;5;241m.\u001b[39msize \u001b[38;5;241m==\u001b[39m \u001b[38;5;241m0\u001b[39m:\n\u001b[1;32m   2329\u001b[0m         \u001b[38;5;28;01mreturn\u001b[39;00m\n",
      "File \u001b[0;32m~/Programs/assignments/pocs/python/venv/lib/python3.10/site-packages/matplotlib/lines.py:1029\u001b[0m, in \u001b[0;36mLine2D.get_path\u001b[0;34m(self)\u001b[0m\n\u001b[1;32m   1027\u001b[0m \u001b[38;5;250m\u001b[39m\u001b[38;5;124;03m\"\"\"Return the `~matplotlib.path.Path` associated with this line.\"\"\"\u001b[39;00m\n\u001b[1;32m   1028\u001b[0m \u001b[38;5;28;01mif\u001b[39;00m \u001b[38;5;28mself\u001b[39m\u001b[38;5;241m.\u001b[39m_invalidy \u001b[38;5;129;01mor\u001b[39;00m \u001b[38;5;28mself\u001b[39m\u001b[38;5;241m.\u001b[39m_invalidx:\n\u001b[0;32m-> 1029\u001b[0m     \u001b[38;5;28;43mself\u001b[39;49m\u001b[38;5;241;43m.\u001b[39;49m\u001b[43mrecache\u001b[49m\u001b[43m(\u001b[49m\u001b[43m)\u001b[49m\n\u001b[1;32m   1030\u001b[0m \u001b[38;5;28;01mreturn\u001b[39;00m \u001b[38;5;28mself\u001b[39m\u001b[38;5;241m.\u001b[39m_path\n",
      "File \u001b[0;32m~/Programs/assignments/pocs/python/venv/lib/python3.10/site-packages/matplotlib/lines.py:662\u001b[0m, in \u001b[0;36mLine2D.recache\u001b[0;34m(self, always)\u001b[0m\n\u001b[1;32m    660\u001b[0m \u001b[38;5;28;01mif\u001b[39;00m always \u001b[38;5;129;01mor\u001b[39;00m \u001b[38;5;28mself\u001b[39m\u001b[38;5;241m.\u001b[39m_invalidy:\n\u001b[1;32m    661\u001b[0m     yconv \u001b[38;5;241m=\u001b[39m \u001b[38;5;28mself\u001b[39m\u001b[38;5;241m.\u001b[39mconvert_yunits(\u001b[38;5;28mself\u001b[39m\u001b[38;5;241m.\u001b[39m_yorig)\n\u001b[0;32m--> 662\u001b[0m     y \u001b[38;5;241m=\u001b[39m \u001b[43m_to_unmasked_float_array\u001b[49m\u001b[43m(\u001b[49m\u001b[43myconv\u001b[49m\u001b[43m)\u001b[49m\u001b[38;5;241m.\u001b[39mravel()\n\u001b[1;32m    663\u001b[0m \u001b[38;5;28;01melse\u001b[39;00m:\n\u001b[1;32m    664\u001b[0m     y \u001b[38;5;241m=\u001b[39m \u001b[38;5;28mself\u001b[39m\u001b[38;5;241m.\u001b[39m_y\n",
      "File \u001b[0;32m~/Programs/assignments/pocs/python/venv/lib/python3.10/site-packages/matplotlib/cbook/__init__.py:1335\u001b[0m, in \u001b[0;36m_to_unmasked_float_array\u001b[0;34m(x)\u001b[0m\n\u001b[1;32m   1333\u001b[0m     \u001b[38;5;28;01mreturn\u001b[39;00m np\u001b[38;5;241m.\u001b[39mma\u001b[38;5;241m.\u001b[39masarray(x, \u001b[38;5;28mfloat\u001b[39m)\u001b[38;5;241m.\u001b[39mfilled(np\u001b[38;5;241m.\u001b[39mnan)\n\u001b[1;32m   1334\u001b[0m \u001b[38;5;28;01melse\u001b[39;00m:\n\u001b[0;32m-> 1335\u001b[0m     \u001b[38;5;28;01mreturn\u001b[39;00m \u001b[43mnp\u001b[49m\u001b[38;5;241;43m.\u001b[39;49m\u001b[43masarray\u001b[49m\u001b[43m(\u001b[49m\u001b[43mx\u001b[49m\u001b[43m,\u001b[49m\u001b[43m \u001b[49m\u001b[38;5;28;43mfloat\u001b[39;49m\u001b[43m)\u001b[49m\n",
      "\u001b[0;31mValueError\u001b[0m: setting an array element with a sequence."
     ]
    },
    {
     "data": {
      "image/png": "[encoded data removed]",
      "text/plain": [
       "<Figure size 640x480 with 1 Axes>"
      ]
     },
     "metadata": {},
     "output_type": "display_data"
    }
   ],
   "source": [
    "plt.plot(np.arange(0, len(mis)), mis)\n",
    "#plt.yscale('log')\n",
    "plt.title(\"Mutual information\")\n",
    "plt.xlabel(\"Iteration\")\n",
    "plt.ylabel(\"MI\")\n",
    "plt.show()"
   ]
  },
  {
   "cell_type": "code",
   "execution_count": null,
   "id": "b803a170",
   "metadata": {},
   "outputs": [],
   "source": [
    "def analytical_mutual_information(d, dim=3): # From week 2\n",
    "    covariance_prior = A_prior @ A_prior.T\n",
    "    var_y = noise * np.eye(d.shape[0])\n",
    "    cov_posterior = covariance_prior - covariance_prior @ d.T @ np.linalg.inv(var_y + d @ covariance_prior @ d.T) @ d @ covariance_prior\n",
    "    #val = 0.5 * np.log(np.linalg.det(2*np.pi*np.e*cov_posterior)) - 0.5 * np.log(np.linalg.det(2*np.pi*np.e*covariance_prior))\n",
    "    return 0.5 * np.log(np.linalg.det(2*np.pi*np.e*cov_posterior))\n",
    "plt.plot(np.arange(0, len(dis)), np.array([MI(d, N=10) for d in dis]))\n",
    "#plt.yscale('log')\n",
    "plt.title(\"Mutual information\")\n",
    "plt.xlabel(\"Iteration\")\n",
    "plt.ylabel(\"MI\")"
   ]
  },
  {
   "cell_type": "code",
   "execution_count": 13,
   "id": "869d8698",
   "metadata": {},
   "outputs": [
    {
     "data": {
      "text/plain": [
       "Text(0, 0.5, 'Norm of d')"
      ]
     },
     "execution_count": 13,
     "metadata": {},
     "output_type": "execute_result"
    },
    {
     "data": {
      "image/png": "[encoded data removed]",
      "text/plain": [
       "<Figure size 640x480 with 1 Axes>"
      ]
     },
     "metadata": {},
     "output_type": "display_data"
    }
   ],
   "source": [
    "plt.plot(np.arange(0, len(dis)), np.array([np.linalg.norm(d) for d in dis]))\n",
    "#plt.yscale('log')\n",
    "plt.title(\"Norm of d\")\n",
    "plt.xlabel(\"Iteration\")\n",
    "plt.ylabel(\"Norm of d\")"
   ]
  },
  {
   "cell_type": "code",
   "execution_count": null,
   "id": "4ad6c24a",
   "metadata": {},
   "outputs": [],
   "source": [
    "MI_grad(dis[5])"
   ]
  },
  {
   "cell_type": "code",
   "execution_count": null,
   "id": "ffea469e",
   "metadata": {},
   "outputs": [],
   "source": [
    "i = 0\n",
    "di = dis[i]\n",
    "plt.xlabel(\"$x_0$\")\n",
    "plt.ylabel(\"$x_1$\")\n",
    "plt.scatter(di[:, 0], di[:, 1])\n",
    "plt.title(\"$d$ at iteration %d\" % (i + 1))"
   ]
  },
  {
   "cell_type": "code",
   "execution_count": 18,
   "id": "699d5797",
   "metadata": {},
   "outputs": [
    {
     "data": {
      "text/plain": [
       "Text(0.5, 1.0, 'Points move per iteration (blue is start, orange is end)')"
      ]
     },
     "execution_count": 18,
     "metadata": {},
     "output_type": "execute_result"
    },
    {
     "data": {
      "image/png": "[encoded data removed]",
      "text/plain": [
       "<Figure size 640x480 with 1 Axes>"
      ]
     },
     "metadata": {},
     "output_type": "display_data"
    }
   ],
   "source": [
    "dis = np.array(dis)\n",
    "for p in range(d0.shape[0]):\n",
    "    plt.scatter(dis[0, p, 0], dis[0, p, 1], c=\"blue\") # start\n",
    "    plt.scatter(dis[-1, p, 0], dis[-1, p, 1], c=\"orange\") # end\n",
    "    plt.plot(dis[:, p, 0], dis[:, p, 1], alpha=0.5)\n",
    "plt.title(\"Points move per iteration (blue is start, orange is end)\")"
   ]
  },
  {
   "cell_type": "code",
   "execution_count": null,
   "id": "25e377e5",
   "metadata": {},
   "outputs": [],
   "source": [
    "from sklearn import feature_selection\n"
   ]
  },
  {
   "cell_type": "code",
   "execution_count": null,
   "id": "5cab6a3e",
   "metadata": {},
   "outputs": [],
   "source": [
    "feature_selection.mutual_info_regression(d0, augment_d(d0) @ mean_prior)"
   ]
  },
  {
   "cell_type": "code",
   "execution_count": null,
   "id": "6e093b54",
   "metadata": {},
   "outputs": [],
   "source": [
    "d0"
   ]
  },
  {
   "cell_type": "code",
   "execution_count": null,
   "id": "fb158d9f",
   "metadata": {},
   "outputs": [],
   "source": []
  }
 ],
 "metadata": {
  "kernelspec": {
   "display_name": "Python 3 (ipykernel)",
   "language": "python",
   "name": "python3"
  },
  "language_info": {
   "codemirror_mode": {
    "name": "ipython",
    "version": 3
   },
   "file_extension": ".py",
   "mimetype": "text/x-python",
   "name": "python",
   "nbconvert_exporter": "python",
   "pygments_lexer": "ipython3",
   "version": "3.10.10"
  }
 },
 "nbformat": 4,
 "nbformat_minor": 5
}
