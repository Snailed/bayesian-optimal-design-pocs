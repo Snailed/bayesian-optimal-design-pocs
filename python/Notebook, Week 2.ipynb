{
 "cells": [
  {
   "cell_type": "markdown",
   "id": "eebcb27e",
   "metadata": {},
   "source": [
    "# Week 2: Optimal Bayesian Design with Mutual Information and Linear Regression"
   ]
  },
  {
   "cell_type": "code",
   "execution_count": 66,
   "id": "a82a8229",
   "metadata": {},
   "outputs": [],
   "source": [
    "import numpy as np\n",
    "import pandas as pd\n",
    "import matplotlib.pyplot as plt\n",
    "from scipy import stats, integrate\n",
    "from tqdm.notebook import tqdm, trange"
   ]
  },
  {
   "cell_type": "code",
   "execution_count": 68,
   "id": "c4924b34",
   "metadata": {},
   "outputs": [],
   "source": [
    "# assumption\n",
    "noise = 0.2\n",
    "\n",
    "def optimal_design(U, p_theta, p_y):\n",
    "    pass\n",
    "\n",
    "def mutual_information(d, joint, log_p_theta_yd, log_p_theta):\n",
    "    def inner(theta, y, d):\n",
    "        return joint(theta, y, d) * (log_p_theta_yd(theta, y, d) - log_p_theta(theta) - log_p_theta(theta))\n",
    "    return integrate.dblquad(lambda y, theta: inner(theta, y, d), -5, 5, lambda _: -5, lambda _: 5)[0]\n",
    "\n",
    "def p_theta(theta, prior_cov=np.array([[0.5]])):\n",
    "    return stats.multivariate_normal.pdf(theta, mean=0, cov=prior_cov)\n",
    "def log_p_theta(theta, prior_cov=np.array([[0.5]])):\n",
    "    return stats.multivariate_normal.logpdf(theta, mean=0, cov=prior_cov)\n",
    "\n",
    "# From week 1\n",
    "def get_theta(X, y, covariance_prior):\n",
    "    y = np.array([[y]])\n",
    "    var_y = noise * np.eye(1)\n",
    "    mean_theta = covariance_prior @ X.T @ np.linalg.inv(var_y + X @ covariance_prior @ X.T) @ y\n",
    "    cov_theta = covariance_prior - covariance_prior @ X.T @ np.linalg.inv(var_y + X @ covariance_prior @ X.T) @ X @ covariance_prior\n",
    "    return mean_theta, cov_theta\n",
    "\n",
    "def log_p_theta_yd(theta, y, d):\n",
    "    mean, cov = get_theta(d, y, np.array([[0.5]]))\n",
    "    return stats.multivariate_normal.logpdf(theta, mean=mean, cov=cov)\n",
    "\n",
    "def joint(theta, y, d):\n",
    "    # Joint probability conditioned on theta with p(theta|d) = p(theta) = likelihood * prior\n",
    "    def likelihood(y, d, theta):\n",
    "        return stats.multivariate_normal.pdf(y, mean=theta * d, cov=np.array([[noise]]))\n",
    "    return likelihood(y, d, theta) * p_theta(theta)"
   ]
  },
  {
   "cell_type": "code",
   "execution_count": 62,
   "id": "8cc1d616",
   "metadata": {},
   "outputs": [
    {
     "data": {
      "text/plain": [
       "(1.6987463634264364, 1.3141949905237438e-08)"
      ]
     },
     "execution_count": 62,
     "metadata": {},
     "output_type": "execute_result"
    }
   ],
   "source": [
    "mutual_information(np.array([[1]]), joint, log_p_theta_yd, log_p_theta)"
   ]
  },
  {
   "cell_type": "code",
   "execution_count": 67,
   "id": "8c408c25",
   "metadata": {},
   "outputs": [
    {
     "data": {
      "application/vnd.jupyter.widget-view+json": {
       "model_id": "8de71da6ab4d487cb23291f4483cdb47",
       "version_major": 2,
       "version_minor": 0
      },
      "text/plain": [
       "  0%|          | 0/10 [00:00<?, ?it/s]"
      ]
     },
     "metadata": {},
     "output_type": "display_data"
    },
    {
     "data": {
      "text/plain": [
       "[<matplotlib.lines.Line2D at 0x7f516641c670>,\n",
       " <matplotlib.lines.Line2D at 0x7f516641c6d0>]"
      ]
     },
     "execution_count": 67,
     "metadata": {},
     "output_type": "execute_result"
    },
    {
     "data": {
      "image/png": "[encoded data removed]",
      "text/plain": [
       "<Figure size 640x480 with 1 Axes>"
      ]
     },
     "metadata": {},
     "output_type": "display_data"
    }
   ],
   "source": [
    "ys = []\n",
    "for x in tqdm(np.linspace(-5,5,num=10)):\n",
    "    ys.append(mutual_information(np.array([[x]]), joint, log_p_theta_yd, log_p_theta))\n",
    "\n",
    "plt.plot(np.linspace(-5,5,num=10), ys)"
   ]
  }
 ],
 "metadata": {
  "kernelspec": {
   "display_name": "Python 3 (ipykernel)",
   "language": "python",
   "name": "python3"
  },
  "language_info": {
   "codemirror_mode": {
    "name": "ipython",
    "version": 3
   },
   "file_extension": ".py",
   "mimetype": "text/x-python",
   "name": "python",
   "nbconvert_exporter": "python",
   "pygments_lexer": "ipython3",
   "version": "3.10.10"
  }
 },
 "nbformat": 4,
 "nbformat_minor": 5
}
